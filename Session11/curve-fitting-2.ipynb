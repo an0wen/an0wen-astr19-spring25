{
 "cells": [
  {
   "cell_type": "markdown",
   "id": "3685c8d4-076f-49fa-a064-b2e7de0423f4",
   "metadata": {},
   "source": [
    "# Use what you learned to fit a model to real data\n",
    "\n",
    "Astronomers can measure the mass (Mp) and radius (Rp) of exoplanets, and have done so for more than 2000 out of ~5000 exoplanets.\n",
    "\n",
    "These experimental values are then compared to theoretical predictions to gain information on the planet's composition.\n",
    "\n",
    "However, these theoretical predictions rely on complex models that take a long time to simulate (a few minutes for every point!). For this reason, only a few points are generated in advance, and saved in a file.\n",
    "\n",
    "Is there a way to obtain intermediate values without running the full simulation each time?\n",
    "\n",
    "In this notebook, we will compare interpolation with fitting the simulation with a simple model."
   ]
  },
  {
   "cell_type": "code",
   "execution_count": null,
   "id": "0d57c42f-5973-48ac-8a6a-0144ccba4cd5",
   "metadata": {},
   "outputs": [],
   "source": [
    "import numpy as np\n",
    "import matplotlib.pyplot as plt\n",
    "from scipy import optimize\n",
    "from scipy import interpolate\n",
    "from astropy.table import Table\n",
    "%matplotlib inline"
   ]
  },
  {
   "cell_type": "markdown",
   "id": "99a648a9-bea1-4652-9f8b-4910ca31a85c",
   "metadata": {},
   "source": [
    "### Load data and create a linear interpolator\n",
    "\n",
    "Don't hesitate to read the header of files (first few lines), they often contain useful information about the file's contents. The exoplanet catalog was downloaded from the <a href=\"https://exoplanetarchive.ipac.caltech.edu/\">NASA exoplanet archive</a>. The theoretical simulations were performed using an interior structure model that is described here: <a href=\"https://exoplanets5.org/wp-content/uploads/1106.pdf\">interior model of partially molten rocky planets based on PREM</a>.\n"
   ]
  },
  {
   "cell_type": "code",
   "execution_count": null,
   "id": "54f160ef-fa37-4147-a58f-6837550b5bb8",
   "metadata": {},
   "outputs": [],
   "source": [
    "#load exoplanet data from file and unpack into variables\n",
    "#genfromtxt has the additional option \"filling_values\" that np.loadtxt does not have\n",
    "exoplanet_data = np.genfromtxt(\"catalog_exoplanets.dat\",delimiter=\"\\t\",unpack=True,usecols=(1,2,3,4,5,6),filling_values=0.0)\n",
    "rp,rp_err_up,rp_err_down,mp,mp_err_up,mp_err_down = exoplanet_data\n",
    "print(f\"Number of exoplanets: {len(rp)}\") # look up the number of exoplanets by printing the number of values\n",
    "\n",
    "#load the theoretical model that predicts the planet radius of Earth-like planets\n",
    "theoretical_model = np.loadtxt(\"elike-band.dat\",unpack=True,usecols=(0,1),skiprows=1)\n",
    "mp_theory,rp_theory = theoretical_model\n",
    "print(f\"Number of simulations: {len(mp_theory)}\") # number of simulated points"
   ]
  },
  {
   "cell_type": "markdown",
   "id": "cbc02520-dafb-485d-b226-ee5b3905d403",
   "metadata": {},
   "source": [
    "### Linear interpolation"
   ]
  },
  {
   "cell_type": "code",
   "execution_count": null,
   "id": "2465b9b1-488b-4b51-af6a-b2dd4b5a89a3",
   "metadata": {},
   "outputs": [],
   "source": [
    "#create a function that, for any value of mass, computes the radius by linear interpolation\n",
    "#this creates a function with the name \"rad_interpol\" that will take 1 argument (mass) and return 1 value (radius)\n",
    "rad_interpol = interpolate.interp1d(mp_theory, rp_theory,kind=\"linear\",fill_value=\"extrapolate\")\n",
    "\n",
    "#print out all known points as a table\n",
    "sim_table = Table()\n",
    "sim_table[\"Mp simulation\"] = mp_theory\n",
    "sim_table[\"Rp simulation\"] = rp_theory\n",
    "sim_table[\"Mp simulation\"].format = \"{:.5f}\"\n",
    "sim_table[\"Rp simulation\"].format = \"{:.5f}\"\n",
    "print(sim_table)\n",
    "\n",
    "#test the interpolator for a value not in the table\n",
    "mass_test = 1.0\n",
    "print(f'mass = {mass_test:.5f}, radius interpolated = {rad_interpol(mass_test):.5f}')"
   ]
  },
  {
   "cell_type": "code",
   "execution_count": null,
   "id": "23e39bf0-e96d-47ad-8050-cffc59da4c4b",
   "metadata": {},
   "outputs": [],
   "source": [
    "#Plot the exoplanet catalog, the theoretical model, and the interpolated values\n",
    "f = plt.figure(figsize=(9,6))\n",
    "plt.errorbar(mp,rp,xerr=(-mp_err_down,mp_err_up),yerr=(-rp_err_down,rp_err_up),\n",
    "             marker='o',\n",
    "             ls='None',\n",
    "             alpha=0.15,\n",
    "             color='black',\n",
    "             markersize=5.0,\n",
    "             label='Exoplanets')\n",
    "\n",
    "plt.plot(mp_theory,rp_theory,\n",
    "         marker='o',\n",
    "         ls='None',\n",
    "         alpha=1,\n",
    "         color='blue',\n",
    "         markersize=7.0,\n",
    "         label='Earth-like composition (simulated)')\n",
    "\n",
    "x_interp = np.linspace(np.min(mp_theory),np.max(mp_theory),500)\n",
    "y_interp = rad_interpol(x_interp)\n",
    "plt.plot(x_interp,y_interp,\n",
    "         ls='--',\n",
    "         alpha=1,\n",
    "         color='blue',\n",
    "         label='Earth-like composition (interpolated)')\n",
    "\n",
    "plt.xlabel('Mass (Earth units)')\n",
    "plt.ylabel('Radius (Earth units)')\n",
    "\n",
    "plt.xlim(-1,25)\n",
    "plt.ylim(0.5,3)\n",
    "plt.legend(loc='lower right')\n",
    "\n",
    "plt.show()"
   ]
  },
  {
   "cell_type": "markdown",
   "id": "79443f92-1f97-4cdd-a617-6751191d3b23",
   "metadata": {},
   "source": [
    "### Can we try to fit the data with a line?\n",
    "\n",
    "The simulated data points clearly don't follow a linear relation, but we can still try to see what happens. For simplicity, let's use numpy polyfit."
   ]
  },
  {
   "cell_type": "code",
   "execution_count": null,
   "id": "2ce3014e-30f6-4888-967b-459ba6152ff9",
   "metadata": {},
   "outputs": [],
   "source": [
    "# fit a polynomial of degree 1\n",
    "best_poly1 = np.polyfit(mp_theory,rp_theory,deg=1)\n",
    "\n",
    "#the polyval function takes the polynomial coefficients (best_poly1) and some x-coordinates (mp_theory),\n",
    "#and returns the array of y-coordinates at these points\n",
    "x_fit = np.linspace(0 , 30 , 500)\n",
    "y_fit = np.polyval(best_poly1 , x_fit)\n",
    "\n",
    "#plot the data and the fit\n",
    "f = plt.figure(figsize=(9,4))\n",
    "plt.errorbar(mp_theory,rp_theory,fmt='o',label=\"Data\")\n",
    "plt.plot(x_fit , y_fit , \"r-\",label=\"Fit\")\n",
    "plt.xlabel('x')\n",
    "plt.ylabel('y')\n",
    "plt.legend()\n",
    "plt.show()"
   ]
  },
  {
   "cell_type": "markdown",
   "id": "34119479-eb27-46fa-9315-0f68cc16b126",
   "metadata": {},
   "source": [
    "A line really doesn't fit the data well. How about a 2nd order polynomial?"
   ]
  },
  {
   "cell_type": "code",
   "execution_count": null,
   "id": "b793e808-94d1-4673-90d3-f0cb1b36aa6f",
   "metadata": {},
   "outputs": [],
   "source": [
    "# fit a polynomial of degree 2\n",
    "best_poly2 = np.polyfit(mp_theory,rp_theory,deg=2)\n",
    "\n",
    "#the polyval function takes the polynomial coefficients (best_poly1) and some x-coordinates (mp_theory),\n",
    "#and returns the array of y-coordinates at these points\n",
    "x_fit = np.linspace(0 , 30 , 500)\n",
    "y_fit = np.polyval(best_poly2 , x_fit)\n",
    "\n",
    "#plot the data and the fit\n",
    "f = plt.figure(figsize=(9,4))\n",
    "plt.errorbar(mp_theory,rp_theory,fmt='o',label=\"Data\")\n",
    "plt.plot(x_fit , y_fit , \"r-\",label=\"Fit\")\n",
    "plt.xlabel('x')\n",
    "plt.ylabel('y')\n",
    "plt.ylim(0,2.5)\n",
    "plt.legend()\n",
    "plt.show()"
   ]
  },
  {
   "cell_type": "markdown",
   "id": "8fe4c0c6-1d11-4e91-9ec0-b638d3f97794",
   "metadata": {},
   "source": [
    "## Curve fit\n",
    "\n",
    "Polynomials, no matter the degree, really don't work well for this situation. A better option is to try different \"shapes\" (classes) of function."
   ]
  },
  {
   "cell_type": "code",
   "execution_count": null,
   "id": "9deebeff-0fbc-4580-b0ac-3259e6192476",
   "metadata": {},
   "outputs": [],
   "source": [
    "#for this case, a simple power law will suffice: Rp = Mp^a\n",
    "def radius_model(mass,a):\n",
    "    return mass**a\n",
    "\n",
    "#perform the fit with initial guess a=1\n",
    "params, params_cov = optimize.curve_fit(radius_model,mp_theory,rp_theory,p0=[1])\n",
    "\n",
    "#get uncertainty\n",
    "param_err = np.sqrt(np.diag(params_cov)) #extract the diagonal, and apply square root\n",
    "\n",
    "a_fit = params[0]\n",
    "a_err = param_err[0]\n",
    "\n",
    "#print results\n",
    "print(f'a_fit = {a_fit:.5f} +- {a_err:.5f}')"
   ]
  },
  {
   "cell_type": "markdown",
   "id": "efa6f383-ef6a-4692-9005-a0a5581cf67f",
   "metadata": {},
   "source": [
    "\n",
    "#### Let's check how good is the fit"
   ]
  },
  {
   "cell_type": "code",
   "execution_count": null,
   "id": "1017baad-c178-4207-ac37-ebff3d77340b",
   "metadata": {},
   "outputs": [],
   "source": [
    "#create a figure with two vertically aligned panels\n",
    "fig,(ax1,ax2) = plt.subplots(2,1,figsize=(9,6))\n",
    "\n",
    "#top panel is data, interpolated, and fit\n",
    "x_fit = np.linspace(0.1*np.min(mp_theory),2*np.max(mp_theory),500)\n",
    "y_fit = radius_model(x_fit,*params)\n",
    "ax1.plot(mp_theory,rp_theory,'bo',label='Simulated Data')\n",
    "ax1.plot(x_interp,y_interp,ls='--',color='blue',label='Interpolated')\n",
    "ax1.plot(x_fit,y_fit,'r-',label='Fit')\n",
    "ax1.set_xticklabels([]) #remove xticks labels\n",
    "ax1.set_xlabel('') #remove x label\n",
    "ax1.set_ylabel('Radius')\n",
    "ax1.legend(loc='lower right')\n",
    "ax1.set_xlim(-1,25.0)\n",
    "ax1.set_ylim(0.2,2.5)\n",
    "ax1.grid()\n",
    "\n",
    "#bottom panel is residuals\n",
    "#residuals are the difference between the data and the fit\n",
    "#they represent the \"distance\" between the data and the fit\n",
    "#smaller values mean the model matches the data well\n",
    "residuals = rp_theory-radius_model(mp_theory,*params)\n",
    "ax2.plot(mp_theory,residuals,'bo',label='Residuals of the fit')\n",
    "ax2.set_xlabel('Mass')\n",
    "ax2.set_ylabel('Residuals')\n",
    "ax2.legend(loc='upper right')\n",
    "ax2.set_xlim(-1,25.0)\n",
    "#ax2.set_ylim(0.2,2.5)\n",
    "ax2.grid()\n",
    "\n",
    "plt.subplots_adjust(hspace=0.0)\n",
    "\n",
    "plt.show()"
   ]
  },
  {
   "cell_type": "markdown",
   "id": "36142059-2a08-4f39-a41a-45fac8a715b5",
   "metadata": {},
   "source": [
    "Pretty good, but can we do better?"
   ]
  },
  {
   "cell_type": "code",
   "execution_count": null,
   "id": "84841621-c7e1-4dc2-a2b1-3fe83795512a",
   "metadata": {},
   "outputs": [],
   "source": [
    "#try a slightly more refined model: Rp = Mp^a * ( 1 + b*log10(Mp) )\n",
    "#there is a physical reason for choosing this specific shape,\n",
    "#but for now let's just focus on how additional parameters improve the fit\n",
    "def radius_model2(mass,a,b):\n",
    "    return mass**a * ( 1.0 + b * np.log10(mass) )\n",
    "\n",
    "#perform the fit with initial guess a=1 and b=1\n",
    "params2, params_cov2 = optimize.curve_fit(radius_model2,mp_theory,rp_theory,p0=[1,1])\n",
    "\n",
    "#get uncertainty\n",
    "param_err2 = np.sqrt(np.diag(params_cov2)) #extract the diagonal, and apply square root\n",
    "\n",
    "#print results\n",
    "print(f'fit parameters [a,b] = {params2}')"
   ]
  },
  {
   "cell_type": "code",
   "execution_count": null,
   "id": "71e79ebf-d559-41c8-8634-9fddf29f7349",
   "metadata": {},
   "outputs": [],
   "source": [
    "#create a figure with two vertically aligned panels\n",
    "fig,(ax1,ax2) = plt.subplots(2,1,figsize=(9,6))\n",
    "\n",
    "#top panel is data, interpolated, and fit\n",
    "x_fit = np.linspace(0.1*np.min(mp_theory),2*np.max(mp_theory),500)\n",
    "y_fit1 = radius_model(x_fit,*params)\n",
    "y_fit2 = radius_model2(x_fit,*params2)\n",
    "ax1.plot(mp_theory,rp_theory,'bo',label='Simulated Data')\n",
    "ax1.plot(x_interp,y_interp,ls='--',color='blue',label='Interpolated')\n",
    "ax1.plot(x_fit,y_fit1,'r-',label='Fit 1')\n",
    "ax1.plot(x_fit,y_fit2,'g-',label='Fit 2')\n",
    "ax1.set_xticklabels([]) #remove xticks labels\n",
    "ax1.set_xlabel('') #remove x label\n",
    "ax1.set_ylabel('Radius')\n",
    "ax1.legend(loc='lower right')\n",
    "ax1.set_xlim(-1,25.0)\n",
    "ax1.set_ylim(0.2,2.5)\n",
    "ax1.grid()\n",
    "\n",
    "#bottom panel is residuals\n",
    "#residuals are the difference between the data and the fit\n",
    "#they represent the \"distance\" between the data and the fit\n",
    "#smaller values mean the model matches the data well\n",
    "residuals2 = rp_theory-radius_model2(mp_theory,*params2)\n",
    "ax2.plot(mp_theory,residuals,'ro',label='Residuals 1')\n",
    "ax2.plot(mp_theory,residuals2,'go',label='Residuals 2')\n",
    "ax2.set_xlabel('Mass')\n",
    "ax2.set_ylabel('Residuals')\n",
    "ax2.legend(loc='upper right')\n",
    "ax2.set_xlim(-1,25.0)\n",
    "#ax2.set_ylim(0.2,2.5)\n",
    "ax2.grid()\n",
    "\n",
    "plt.subplots_adjust(hspace=0.0)\n",
    "\n",
    "plt.show()"
   ]
  },
  {
   "cell_type": "markdown",
   "id": "b5be3d37-3b35-4306-ac26-1e1c596ed202",
   "metadata": {},
   "source": [
    "In both cases, the residuals are close to 0 on average, but one fit is clearly better than the other. The proper quantity to measure here is the standard deviation of the residuals. As we can see below, "
   ]
  },
  {
   "cell_type": "code",
   "execution_count": null,
   "id": "57cfba6b-25bd-47c7-b64c-4b94746666ae",
   "metadata": {},
   "outputs": [],
   "source": [
    "#print out all known points as a table\n",
    "residual_prop_table = Table([[\"fit 1\",\"fit 2\"],\n",
    "                             [np.mean(residuals), np.mean(residuals2)], \n",
    "                             [np.std(residuals), np.std(residuals2)]], \n",
    "                            names=('','mean', 'std'))\n",
    "residual_prop_table[\"mean\"].format = \"{:.5f}\"\n",
    "residual_prop_table[\"std\"].format = \"{:.5f}\"\n",
    "print(residual_prop_table)\n",
    "print()\n",
    "print(f\"The second fit is {np.std(residuals)/np.std(residuals2):.1f} times better!!!\")"
   ]
  },
  {
   "cell_type": "markdown",
   "id": "0407bf09-8dd9-4413-b5c9-e1d4b0771b28",
   "metadata": {},
   "source": [
    "#### Back to the case of the Earth\n",
    "\n",
    "Remember how the interpolator predicted that an object with 1 times the mass of the Earth is not exactly 1 times the radius of the Earth? An additional simulation was performed and the returned value was 0.99683."
   ]
  },
  {
   "cell_type": "code",
   "execution_count": null,
   "id": "0bf90e42-3618-44ef-ac8a-34c1afccbc02",
   "metadata": {},
   "outputs": [],
   "source": [
    "print(f\"radius interp = {rad_interpol(1.0):.5f}\")\n",
    "print(f\"radius fit 1  = {radius_model(1.0,*params):.5f}\")\n",
    "print(f\"radius fit 2  = {radius_model2(1.0,*params2):.5f}\")\n",
    "print(f\"radius real   = {0.99683:.5f}\")"
   ]
  },
  {
   "cell_type": "code",
   "execution_count": null,
   "id": "530c946e-101f-4ee9-9a49-2b484f5a5675",
   "metadata": {},
   "outputs": [],
   "source": []
  }
 ],
 "metadata": {
  "kernelspec": {
   "display_name": "Python 3 (ipykernel)",
   "language": "python",
   "name": "python3"
  },
  "language_info": {
   "codemirror_mode": {
    "name": "ipython",
    "version": 3
   },
   "file_extension": ".py",
   "mimetype": "text/x-python",
   "name": "python",
   "nbconvert_exporter": "python",
   "pygments_lexer": "ipython3",
   "version": "3.12.9"
  }
 },
 "nbformat": 4,
 "nbformat_minor": 5
}
