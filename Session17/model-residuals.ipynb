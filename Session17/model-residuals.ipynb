{
 "cells": [
  {
   "cell_type": "markdown",
   "id": "7439c825-4d0d-4070-953e-bf153cb1719f",
   "metadata": {},
   "source": [
    "# Computing model residuals\n",
    "\n",
    "This notebook computes the residuals between data and a model fitted to this data, and makes a statistical analysis of residuals. This notebook builds upon tools developed earlier in this class."
   ]
  },
  {
   "cell_type": "markdown",
   "id": "4f9ff44f-3e1a-4118-a7a1-e17b360e8867",
   "metadata": {},
   "source": [
    "#### First, import useful libraries"
   ]
  },
  {
   "cell_type": "code",
   "execution_count": null,
   "id": "86cf2fed-47ff-4336-a3ec-15576e51c6d5",
   "metadata": {},
   "outputs": [],
   "source": [
    "import numpy as np\n",
    "import matplotlib.pyplot as plt\n",
    "from scipy import optimize"
   ]
  },
  {
   "cell_type": "markdown",
   "id": "397d7516-c54d-46ab-ba2e-f7ccee58aaf0",
   "metadata": {},
   "source": [
    "#### Plotting options"
   ]
  },
  {
   "cell_type": "code",
   "execution_count": null,
   "id": "6df4d0ea-a54d-4fc0-a414-ead5717d9726",
   "metadata": {},
   "outputs": [],
   "source": [
    "%matplotlib inline\n",
    "plt.style.use(\"astr19_matplotlib_style.txt\")"
   ]
  },
  {
   "cell_type": "markdown",
   "id": "d95da051-ae4e-4627-80a4-27b3a0d505bd",
   "metadata": {},
   "source": [
    "#### Define a model"
   ]
  },
  {
   "cell_type": "code",
   "execution_count": null,
   "id": "465cf69b-c32b-47b6-b696-4c19428236f3",
   "metadata": {},
   "outputs": [],
   "source": [
    "# the reference underlying model is a sine wave\n",
    "def sinusoid(x,amplitude,start,period,offset):\n",
    "    return amplitude * np.sin(2.0 * np.pi * (x-start)/period ) + offset"
   ]
  },
  {
   "cell_type": "code",
   "execution_count": null,
   "id": "20b9eadf-0d9e-4253-94b3-7dad67900721",
   "metadata": {},
   "outputs": [],
   "source": [
    "#function that will generate some data\n",
    "def generate_data(xmin=0.0,xmax=10.0,amplitude=1.0,start=0.5,period=1.0,offset=0.0,sigma=0.25,n=100):\n",
    "    #xmin is the minimum range of the data\n",
    "    #xmax is the maximum range of the data\n",
    "    #sigma is used for the uncertainty (error bars) and the noise\n",
    "    #n is the number of samples\n",
    "\n",
    "    #create n points randomly (uniformly) distributed between xmin and xmax\n",
    "    x = np.random.uniform(low=xmin,high=xmax,size=n)\n",
    "    # sort the data by increasing x\n",
    "    idx_model = np.argsort(x)\n",
    "    x_data = x[idx_model]\n",
    "    \n",
    "    #y have a value centered on the real curve, but with gaussian error\n",
    "    y = sinusoid(x,amplitude,start,period,offset) + sigma*np.random.randn(n)\n",
    "    y = np.asarray(y,dtype=np.float32)\n",
    "\n",
    "    y_err = np.full(n,sigma,dtype=np.float32)\n",
    "\n",
    "    #return x, y, and y_err values\n",
    "    return x,y,y_err"
   ]
  },
  {
   "cell_type": "markdown",
   "id": "f677190f-1849-48ac-86c7-4b89aebba629",
   "metadata": {},
   "source": [
    "#### Generate the data"
   ]
  },
  {
   "cell_type": "code",
   "execution_count": null,
   "id": "df9f20d1-1f28-479c-b6ac-c692bb6e222f",
   "metadata": {},
   "outputs": [],
   "source": [
    "# choose a seed\n",
    "n_seed = 11\n",
    "np.random.seed(n_seed)\n",
    "# generate data with all default values\n",
    "x, y, y_err = generate_data()"
   ]
  },
  {
   "cell_type": "markdown",
   "id": "775e114e-d9c6-440e-9f26-c7e18b3f4756",
   "metadata": {},
   "source": [
    "#### Make the fit"
   ]
  },
  {
   "cell_type": "code",
   "execution_count": null,
   "id": "292d91aa-fc0c-44aa-8440-27aa8d93af48",
   "metadata": {},
   "outputs": [],
   "source": [
    "params,pcov = optimize.curve_fit(sinusoid,x,y,sigma=y_err,p0=[1,0.5,1,0])\n",
    "a_fit = params[0]\n",
    "s_fit = params[1]\n",
    "p_fit = params[2]\n",
    "o_fit = params[3]\n",
    "print(a_fit,s_fit,p_fit,o_fit)"
   ]
  },
  {
   "cell_type": "markdown",
   "id": "7018d247-e92f-4f9b-baae-099f4a16c758",
   "metadata": {},
   "source": [
    "#### Plot the data and the model"
   ]
  },
  {
   "cell_type": "code",
   "execution_count": null,
   "id": "6c1030b0-07dd-4346-8cd9-d03738168e3a",
   "metadata": {},
   "outputs": [],
   "source": [
    "x_fit = np.linspace(0,10,1000)\n",
    "y_fit = sinusoid(x_fit,a_fit,s_fit,p_fit,o_fit)"
   ]
  },
  {
   "cell_type": "code",
   "execution_count": null,
   "id": "d774023f-8be5-48a3-ae47-1fe82b7483d9",
   "metadata": {},
   "outputs": [],
   "source": [
    "f,ax = plt.subplots(1,1,figsize=(7,7))\n",
    "\n",
    "ax.errorbar(x,y,y_err,fmt='o',zorder=5,label='Data')\n",
    "ax.plot(x_fit,y_fit,color='magenta',zorder=6,label='Best-fit Model')\n",
    "\n",
    "ax.set_xlim([-0.1,10.1])\n",
    "ax.set_ylim([-2.,2.])\n",
    "\n",
    "ax.set_xlabel('x',fontsize=20)\n",
    "ax.set_ylabel('y',fontsize=20)\n",
    "plt.legend(frameon=True,fontsize=10,handletextpad=1)\n",
    "\n",
    "plt.show()"
   ]
  },
  {
   "cell_type": "markdown",
   "id": "17d0f9ad-bf93-4fb1-8447-da679218b5f3",
   "metadata": {},
   "source": [
    "#### Now let's have a look at residuals between data and model"
   ]
  },
  {
   "cell_type": "code",
   "execution_count": null,
   "id": "d4045dd7-66e8-4d30-aa35-7d005a9dd8f7",
   "metadata": {},
   "outputs": [],
   "source": [
    "# compute the y values predicted by the model\n",
    "y_model = sinusoid(x,a_fit,s_fit,p_fit,o_fit)\n",
    "\n",
    "# compute residuals = data - model\n",
    "residuals = y - y_model"
   ]
  },
  {
   "cell_type": "markdown",
   "id": "4da9ca33-da5b-448d-bb27-ef9236d8e9d4",
   "metadata": {},
   "source": [
    "#### Plot the residuals"
   ]
  },
  {
   "cell_type": "code",
   "execution_count": null,
   "id": "614d90e8-13c7-4c74-9a12-cb1eac7f4b11",
   "metadata": {},
   "outputs": [],
   "source": [
    "f,ax = plt.subplots(1,1,figsize=(7,7))\n",
    "\n",
    "ax.errorbar(x,residuals,y_err,fmt='o',label='Residuals')\n",
    "\n",
    "ax.set_xlim([-0.1,10.1])\n",
    "ax.set_ylim([-2.,2.])\n",
    "\n",
    "ax.set_xlabel('x',fontsize=20)\n",
    "ax.set_ylabel('y',fontsize=20)\n",
    "plt.legend(frameon=True,fontsize=10,handletextpad=1)\n",
    "\n",
    "plt.show()"
   ]
  },
  {
   "cell_type": "markdown",
   "id": "3c2b9120-2fba-457d-9465-f9ffe23701cc",
   "metadata": {},
   "source": [
    "#### What are the statistical properties of residuals?"
   ]
  },
  {
   "cell_type": "code",
   "execution_count": null,
   "id": "01e8bd4d-411e-4631-8364-03f9f19809e3",
   "metadata": {},
   "outputs": [],
   "source": [
    "residuals_mean = np.mean(residuals)\n",
    "residuals_std = np.std(residuals)\n",
    "residuals_rms = np.sqrt(np.mean(y**2))\n",
    "\n",
    "print(f\"Residuals mean is  {residuals_mean:.16f}\")\n",
    "print(f\"Residuals stdev is {residuals_std:.16f}\")\n",
    "print(f\"Residuals RMS is   {residuals_std:.16f}\")"
   ]
  },
  {
   "cell_type": "markdown",
   "id": "167d7bb9-8998-4ade-9907-91cdfdd05b19",
   "metadata": {},
   "source": [
    "#### Define a gaussian function"
   ]
  },
  {
   "cell_type": "code",
   "execution_count": null,
   "id": "adfb4fe8-0aaf-4a4e-b976-cf8a8fffd798",
   "metadata": {},
   "outputs": [],
   "source": [
    "def gaussian(x,mu,s):\n",
    "    return 1./np.sqrt(2.0*np.pi*s**2) * np.exp(-0.5*((x-mu)/s)**2)"
   ]
  },
  {
   "cell_type": "markdown",
   "id": "4bea101d-99b0-4b26-a13c-11f9bf2d2b83",
   "metadata": {},
   "source": [
    "#### Histogram the residuals"
   ]
  },
  {
   "cell_type": "code",
   "execution_count": null,
   "id": "706ee4be-b168-4ef0-a459-ee8a8cc27079",
   "metadata": {},
   "outputs": [],
   "source": [
    "f,ax = plt.subplots(1,1,figsize=(7,7))\n",
    "\n",
    "counts, bins_custom = np.histogram(residuals,bins=50,range=(-2,2))\n",
    "ax.hist(residuals,bins=bins_custom,alpha=0.5,edgecolor=\"white\",density=True)\n",
    "\n",
    "# draw the gaussian function based on mean and stdev of residuals\n",
    "x_g = np.linspace(-5*residuals_std,5*residuals_std,1000)\n",
    "ax.plot(x_g,gaussian(x_g,residuals_mean,residuals_std),color=\"red\")\n",
    "\n",
    "ax.set_xlim([-2,2])\n",
    "ax.set_xlabel('x',fontsize=20)\n",
    "ax.set_ylabel('freq of x',fontsize=20)\n",
    "\n",
    "plt.show()"
   ]
  },
  {
   "cell_type": "markdown",
   "id": "c72dd0ea-2593-4c8d-a64e-ad1419594aaa",
   "metadata": {},
   "source": [
    "#### Can we test whether any point is an outlier? "
   ]
  },
  {
   "cell_type": "code",
   "execution_count": null,
   "id": "3329933c-827c-47dc-8ceb-2b6e8834457b",
   "metadata": {},
   "outputs": [],
   "source": [
    "from scipy.special import erf #importing the error function from scipy\n",
    "\n",
    "# returns the probability of being x sigma away from the mean\n",
    "def event_probability(x,mu=0.0,s=1.0):\n",
    "\tz = np.fabs((x-mu)/s)\n",
    "\treturn 1.0 - erf(z/np.sqrt(2))\n",
    "\n",
    "# given prior measurements, determines if the new value is an outlier\n",
    "def chauvenet_criterion(prior_measurements, outlier):\n",
    "    mean = np.mean(prior_measurements)\n",
    "    std = np.std(prior_measurements)\n",
    "    outlier_probability = event_probability(outlier,mu=mean,s=std)\n",
    "    N = len(prior_measurements)+1\n",
    "    if( N*outlier_probability < 0.5):\n",
    "        return True\n",
    "    return False\n",
    "\n",
    "# give a set of measurements, and test each individual measurement for being an outlier\n",
    "def test_dataset(x,measurements_all):\n",
    "    # get mean and stdev\n",
    "    meas_mean = np.mean(measurements_all)\n",
    "    meas_std = np.std(measurements_all)\n",
    "    \n",
    "    #number of outliers\n",
    "    num_out = 0\n",
    "    \n",
    "    # loop through each point, and test whether it can be considered as an outlier\n",
    "    # according to the Chauvenet's criterion\n",
    "    for i in range(len(measurements_all)):\n",
    "        meas_test = measurements_all[i] # value to test\n",
    "        meas_sliced = np.delete(measurements_all,i) # all measurements except the value to test\n",
    "        test_chauvenet = chauvenet_criterion(meas_sliced, meas_test)\n",
    "        if test_chauvenet:\n",
    "            print(f\"Residual {i:3d} at x={x[i]:.3f} is an outlier, \"\n",
    "                  +f\"significance: {np.abs(meas_test-meas_mean)/meas_std:.5f} sigmas, \"\n",
    "                  +f\"probability: {100*event_probability(meas_test,mu=meas_mean,s=meas_std):.5f}%\")\n",
    "            num_out += 1\n",
    "\n",
    "    print(f\"Number of outliers: {num_out}\")"
   ]
  },
  {
   "cell_type": "code",
   "execution_count": null,
   "id": "0e68e369-d062-4471-90dc-73794850d944",
   "metadata": {},
   "outputs": [],
   "source": [
    "#test our dataset\n",
    "test_dataset(x,residuals)"
   ]
  },
  {
   "cell_type": "markdown",
   "id": "b3c90d3b-f231-49e0-adea-69cbcc8404c3",
   "metadata": {},
   "source": [
    "#### Add an outlier to the data"
   ]
  },
  {
   "cell_type": "code",
   "execution_count": null,
   "id": "13e74f15-4837-4dee-a940-ffe2312e0d97",
   "metadata": {},
   "outputs": [],
   "source": [
    "# generating a random outlier location and value\n",
    "np.random.seed(n_seed)\n",
    "x_out,y_out,y_out_err = generate_data(n=1)\n",
    "y_out += 5*y_out_err\n",
    "\n",
    "# adding outlier to the data\n",
    "x_new = np.append(x,x_out)\n",
    "y_new = np.append(y,y_out)\n",
    "y_err_new = np.append(y_err,y_out_err)\n",
    "\n",
    "# sort the data by increasing x\n",
    "idx_model = np.argsort(x_new)\n",
    "x_new = x_new[idx_model]\n",
    "y_new = y_new[idx_model]"
   ]
  },
  {
   "cell_type": "code",
   "execution_count": null,
   "id": "a957727e-616d-45c3-b59e-667f04e6cc57",
   "metadata": {},
   "outputs": [],
   "source": [
    "print(x_out,y_out,y_out_err)"
   ]
  },
  {
   "cell_type": "markdown",
   "id": "af2c71bb-4b52-4b7e-85ba-098bcb5e68bc",
   "metadata": {},
   "source": [
    "#### Recompute the model including the new data location"
   ]
  },
  {
   "cell_type": "code",
   "execution_count": null,
   "id": "f477cf7f-6449-4444-8b43-88a9c463d5f5",
   "metadata": {},
   "outputs": [],
   "source": [
    "# compute values predicted for the model (again)\n",
    "y_model_new = sinusoid(x_new,a_fit,s_fit,p_fit,o_fit)\n",
    "\n",
    "# compute residuals\n",
    "residuals_new = y_new - y_model_new"
   ]
  },
  {
   "cell_type": "markdown",
   "id": "f3c0f4a8-3163-4981-8152-7ed242abe29e",
   "metadata": {},
   "source": [
    "#### Plot the data, including the outlier"
   ]
  },
  {
   "cell_type": "code",
   "execution_count": null,
   "id": "bc7a1d2c-c134-49d5-9344-ac80251edbbf",
   "metadata": {},
   "outputs": [],
   "source": [
    "f,ax = plt.subplots(1,1,figsize=(7,7))\n",
    "\n",
    "ax.errorbar(x_new,y_new,y_err_new,fmt='o',zorder=5,label='Data')\n",
    "ax.plot(x_fit,y_fit,color='magenta',zorder=6,label='Best-fit Model')\n",
    "\n",
    "ax.set_xlim([-0.1,10.1])\n",
    "ax.set_ylim([-2.,2.])\n",
    "ax.set_xlabel('x',fontsize=20)\n",
    "ax.set_ylabel('y',fontsize=20)\n",
    "plt.legend(frameon=True,fontsize=10,handletextpad=1)\n",
    "\n",
    "plt.show()"
   ]
  },
  {
   "cell_type": "markdown",
   "id": "eab837f7-5f1a-479e-9cc2-83aacc092e6d",
   "metadata": {},
   "source": [
    "#### Plot the residuals, including the outlier"
   ]
  },
  {
   "cell_type": "code",
   "execution_count": null,
   "id": "4d502978-b80f-42d6-ab1d-95aa9f1c212a",
   "metadata": {},
   "outputs": [],
   "source": [
    "f,ax = plt.subplots(1,1,figsize=(7,7))\n",
    "\n",
    "ax.errorbar(x_new,residuals_new,y_err_new,fmt='o',label='Residuals')\n",
    "\n",
    "ax.set_xlim([-0.1,10.1])\n",
    "ax.set_ylim([-2.,2.])\n",
    "ax.set_xlabel('x',fontsize=20)\n",
    "ax.set_ylabel('y',fontsize=20)\n",
    "plt.legend(frameon=True,fontsize=10,handletextpad=1)\n",
    "\n",
    "plt.show()"
   ]
  },
  {
   "cell_type": "markdown",
   "id": "2f422bee-0280-4212-89fd-eb97ac739d3f",
   "metadata": {},
   "source": [
    "#### Histogram the residuals, with the outlier"
   ]
  },
  {
   "cell_type": "code",
   "execution_count": null,
   "id": "4dc7059b-b00a-4146-b1b2-8aa683ffacc8",
   "metadata": {},
   "outputs": [],
   "source": [
    "f,ax = plt.subplots(1,1,figsize=(7,7))\n",
    "\n",
    "ax.hist(residuals_new,bins=bins_custom,alpha=0.5,edgecolor=\"white\",density=True)\n",
    "\n",
    "x_g = np.linspace(-5*residuals_std,5*residuals_std,1000)\n",
    "ax.plot(x_g,gaussian(x_g,residuals_mean,residuals_std),color=\"red\")\n",
    "\n",
    "ax.set_xlim([-2,2])\n",
    "ax.set_xlabel('x',fontsize=20)\n",
    "ax.set_ylabel('freq of x',fontsize=20)\n",
    "\n",
    "plt.show()"
   ]
  },
  {
   "cell_type": "markdown",
   "id": "a7edf5bb-cf81-439f-9277-f3b75c758584",
   "metadata": {},
   "source": [
    "#### Can we diagnose the outlier?"
   ]
  },
  {
   "cell_type": "code",
   "execution_count": null,
   "id": "a557d170-203c-48e0-a641-49c1e308e2f1",
   "metadata": {},
   "outputs": [],
   "source": [
    "#test our new dataset\n",
    "test_dataset(x_new,residuals_new)"
   ]
  },
  {
   "cell_type": "markdown",
   "id": "59e6683b-417a-4f0a-a109-26c5afb43b22",
   "metadata": {},
   "source": [
    "#### Summary of encountered cases:\n",
    "\n",
    "- Easy case ($n_{seed}=11$): \n",
    "- Realistic case\n",
    "- Difficult case\n",
    "- Ideal case"
   ]
  },
  {
   "cell_type": "code",
   "execution_count": null,
   "id": "c7c53828-3633-4ad1-b348-e15c55e342a8",
   "metadata": {},
   "outputs": [],
   "source": []
  },
  {
   "cell_type": "code",
   "execution_count": null,
   "id": "6cba55ae-d96b-4ccb-a898-8ddbffecf146",
   "metadata": {},
   "outputs": [],
   "source": []
  },
  {
   "cell_type": "code",
   "execution_count": null,
   "id": "d70c70b8-02ab-4ce1-9250-f0311f799bb7",
   "metadata": {},
   "outputs": [],
   "source": []
  }
 ],
 "metadata": {
  "kernelspec": {
   "display_name": "Python 3 (ipykernel)",
   "language": "python",
   "name": "python3"
  },
  "language_info": {
   "codemirror_mode": {
    "name": "ipython",
    "version": 3
   },
   "file_extension": ".py",
   "mimetype": "text/x-python",
   "name": "python",
   "nbconvert_exporter": "python",
   "pygments_lexer": "ipython3",
   "version": "3.12.9"
  }
 },
 "nbformat": 4,
 "nbformat_minor": 5
}
