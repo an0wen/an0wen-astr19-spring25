{
 "cells": [
  {
   "cell_type": "markdown",
   "id": "ae34ecc0-4233-42ed-bb66-444e2e7ba8a1",
   "metadata": {},
   "source": [
    "# Central Limit Theorem Demonstration\n",
    "\n",
    "In this notebook, let's test the three examples of the application of the CLT."
   ]
  },
  {
   "cell_type": "code",
   "execution_count": null,
   "id": "2da32032-077e-4b11-bd7d-c15503c5bbe2",
   "metadata": {},
   "outputs": [],
   "source": [
    "import numpy as np\n",
    "import matplotlib.pyplot as plt\n",
    "from matplotlib import patches\n",
    "%matplotlib inline"
   ]
  },
  {
   "cell_type": "code",
   "execution_count": null,
   "id": "78432ce0-9fc2-4cd7-8ac4-cd83b739fdca",
   "metadata": {},
   "outputs": [],
   "source": [
    "# we will plot the theoretical normal distribution multiple times, so might as well define a function for it\n",
    "def plot_normal(mean,sigma,xmin=-1,xmax=1):\n",
    "    x = np.linspace(xmin,xmax,1000)\n",
    "    y = np.exp(-(x-mean)**2/(2*sigma**2)) * 1.0/np.sqrt(2.0*np.pi*sigma**2)\n",
    "    plt.plot(x,y,ls='-',c='red')"
   ]
  },
  {
   "cell_type": "markdown",
   "id": "5b4f4b83-1216-4439-b399-f032f24251a2",
   "metadata": {},
   "source": [
    "### Example 1: coin toss\n",
    "\n",
    "Let's toss a coin $p=100$ times, write down the percentage of heads, and repeat such a toss $n=1000$ times. What is the probability distribution of the averaged percentage of heads?\n",
    "\n",
    "NB: for this situation, when $p$ tosses are made, the stdev is 0.35 (assuming 0 is head, and 1 is tail)."
   ]
  },
  {
   "cell_type": "code",
   "execution_count": null,
   "id": "eb2a78fb-a15e-428c-af45-fd271148c701",
   "metadata": {},
   "outputs": [],
   "source": [
    "number_tosses = 100\n",
    "number_experiments = 1000\n",
    "experiment_probability = 0.5\n",
    "experiment_stdev = 0.35\n",
    "\n",
    "# define a function doing p tosses and returning the average number of heads\n",
    "def mean_heads(p):\n",
    "    # p tosses with probability 0.5\n",
    "    # we will consider that 0 is head, and 1 is tails\n",
    "    tosses = np.random.choice((0,1),size=p,p=(experiment_probability,experiment_probability))\n",
    "    average = np.mean(tosses)\n",
    "    return average\n",
    "\n",
    "# repeat the experiment n times\n",
    "all_means = np.zeros(number_experiments)\n",
    "for i in range(number_experiments):\n",
    "    one_mean = mean_heads(number_tosses)\n",
    "    all_means[i] = one_mean\n",
    "\n",
    "# plot the histogram of mu_1 ... mu_n\n",
    "plt.hist(all_means,bins=\"auto\",density=True)\n",
    "\n",
    "# plot the theoretical normal distribution according to CLT\n",
    "theoretical_stdev = experiment_stdev/np.sqrt(number_tosses)\n",
    "plot_normal(experiment_probability,theoretical_stdev)\n",
    "\n",
    "plt.xlabel(\"Average of tosses\")\n",
    "plt.ylabel(\"Probability\")\n",
    "plt.xlim(-0.1,1.1)\n",
    "plt.show()"
   ]
  },
  {
   "cell_type": "markdown",
   "id": "c1c7020c-189e-42a9-a1a9-09136b76abdc",
   "metadata": {},
   "source": [
    "### Example 2: left-handed individuals\n",
    "\n",
    "In a sample of $p=100$ individuals, how many are left-handed?\n",
    "\n",
    "In the entire population, $10\\%$ of people are left-handed (corresponding stdev = $28.46\\%$)."
   ]
  },
  {
   "cell_type": "code",
   "execution_count": null,
   "id": "90b9681b-70d9-4962-a5da-b4d58466b023",
   "metadata": {},
   "outputs": [],
   "source": [
    "number_individuals = 100\n",
    "number_experiments = 1000\n",
    "total_mean = 0.1\n",
    "total_stdev = 0.2846\n",
    "\n",
    "# define a function that returns the percentage of left-handed people\n",
    "def mean_left(p):\n",
    "    # p tosses with probability 0.1 and 0.9\n",
    "    # we will consider that 0 is left-handed, and 1 is right-handed\n",
    "    individuals = np.random.choice((0,1),size=p,p=(total_mean,1-total_mean))\n",
    "    average_right = np.mean(individuals) # average number of right-handed people\n",
    "    average_left = 1 - average_right\n",
    "    return average_left\n",
    "\n",
    "# repeat the experiment n times\n",
    "all_means = np.zeros(number_experiments)\n",
    "for i in range(number_experiments):\n",
    "    one_mean = mean_left(number_individuals)\n",
    "    all_means[i] = one_mean\n",
    "\n",
    "# plot the histogram of mu_1 ... mu_n\n",
    "plt.hist(all_means,bins=\"auto\",density=True)\n",
    "\n",
    "# plot the theoretical normal distribution according to CLT\n",
    "ax = plt.gca() # get current axes\n",
    "x_limits = ax.get_xlim() # get the x limits of the axes\n",
    "theoretical_stdev = total_stdev/np.sqrt(number_individuals)\n",
    "plot_normal(total_mean,theoretical_stdev,*x_limits) # unpack the limits in the gaussian\n",
    "\n",
    "plt.xlabel(\"Average fraction of left-handed people in one sample\")\n",
    "plt.ylabel(\"Probability\")\n",
    "plt.show()"
   ]
  },
  {
   "cell_type": "markdown",
   "id": "ecd372e5-1229-4e93-9cea-e99089fe8019",
   "metadata": {},
   "source": [
    "Using the same data, what can we tell about the 3-sigma interval?"
   ]
  },
  {
   "cell_type": "code",
   "execution_count": null,
   "id": "fe64f905-4c4d-441b-9434-638962fbd463",
   "metadata": {},
   "outputs": [],
   "source": [
    "# theoretical stdev according to CLT, and 3-sigma boundaries\n",
    "theoretical_stdev = total_stdev/np.sqrt(number_individuals)\n",
    "low_bound = total_mean - 3*total_stdev/np.sqrt(number_individuals)\n",
    "high_bound = total_mean + 3*total_stdev/np.sqrt(number_individuals)\n",
    "print(f\"In the group of {number_individuals} individuals, I am 99.7% certain that \" +  \n",
    "      f\"there will be between {low_bound*number_individuals:.1f} and {high_bound*number_individuals:.1f} \" +\n",
    "      f\"left-handed individuals.\")\n",
    "\n",
    "# actual number of times the experiment was within 3-sigma\n",
    "number_within_3sigma = np.count_nonzero( (all_means > low_bound) & (all_means < high_bound) )\n",
    "print(f\"After repeating the experiment {number_experiments} times, \" + \n",
    "      f\"there were between {low_bound*number_individuals:.1f} and {high_bound*number_individuals:.1f} left-handed individuals \" + \n",
    "      f\"{number_within_3sigma/number_experiments*100} % of the time.\")\n",
    "\n",
    "# plot the histogram of mu_1 ... mu_n\n",
    "plt.hist(all_means,bins=\"auto\",density=True)\n",
    "\n",
    "# plot the theoretical normal distribution according to CLT\n",
    "ax = plt.gca() # get current axes\n",
    "x_limits = ax.get_xlim() # get the x limits of the axes\n",
    "plot_normal(total_mean,total_stdev/np.sqrt(number_individuals),*x_limits) # unpack the limits in the gaussian\n",
    "\n",
    "# add a box for 3-sigma confidence level\n",
    "low_bound = total_mean - 3*total_stdev/np.sqrt(number_individuals)\n",
    "high_bound = total_mean + 3*total_stdev/np.sqrt(number_individuals)\n",
    "y_limits = ax.get_ylim() # get the y limits of the axes\n",
    "confidence_3sigma_rectangle = patches.Rectangle((low_bound,y_limits[0]),high_bound-low_bound,y_limits[1]-y_limits[0],\n",
    "                              edgecolor=\"None\",\n",
    "                              facecolor='red',\n",
    "                              alpha=0.2)\n",
    "ax.add_patch(confidence_3sigma_rectangle)\n",
    "\n",
    "plt.xlabel(\"Average fraction of left-handed people in one sample\")\n",
    "plt.ylabel(\"Probability\")\n",
    "plt.show()"
   ]
  },
  {
   "cell_type": "markdown",
   "id": "7b116036-b371-4448-a1ce-b6828a5839e9",
   "metadata": {},
   "source": [
    "### Example 3: continuous case\n",
    "\n",
    "Previous experiments were discrete: there are only 2 possible outcomes.\n",
    "\n",
    "Here, let's consider an experiment where the random variable is drawn from a probability distribution $P(x)$ that is the beta function."
   ]
  },
  {
   "cell_type": "code",
   "execution_count": null,
   "id": "a3fed7df-4492-4a8c-93a6-4cecfb3f4429",
   "metadata": {},
   "outputs": [],
   "source": [
    "# first, let's just plot our probability density P(x)\n",
    "alpha = 1\n",
    "beta = 10\n",
    "\n",
    "draws = np.random.beta(alpha,beta,size=1_000_000)\n",
    "plt.hist(draws,bins=\"auto\")\n",
    "plt.show()"
   ]
  },
  {
   "cell_type": "code",
   "execution_count": null,
   "id": "61688495-c070-4b4a-af6f-9b0b04823cee",
   "metadata": {},
   "outputs": [],
   "source": [
    "number_draws = 2\n",
    "number_experiments = 100000\n",
    "experiment_probability = alpha/(alpha+beta)\n",
    "experiment_stdev = np.sqrt( (alpha*beta)/((alpha+beta)**2*(alpha+beta+1) ))\n",
    "\n",
    "# define a function doing p draws and returning the average of that array\n",
    "def mean_draws(p):\n",
    "    # p draws with probability beta(alpha,beta)\n",
    "    draws = np.random.beta(alpha,beta,size=p)\n",
    "    average = np.mean(draws)\n",
    "    return average\n",
    "\n",
    "# repeat the experiment n times\n",
    "all_means = np.zeros(number_experiments)\n",
    "for i in range(number_experiments):\n",
    "    one_mean = mean_draws(number_draws)\n",
    "    all_means[i] = one_mean\n",
    "\n",
    "# plot the histogram of mu_1 ... mu_n\n",
    "plt.hist(all_means,bins=\"auto\",density=True)\n",
    "\n",
    "# plot the theoretical normal distribution according to CLT\n",
    "ax = plt.gca() # get current axes\n",
    "x_limits = ax.get_xlim() # get the x limits of the axes\n",
    "theoretical_stdev = experiment_stdev/np.sqrt(number_draws)\n",
    "plot_normal(experiment_probability,theoretical_stdev,*x_limits)\n",
    "\n",
    "plt.xlabel(\"Average of draws\")\n",
    "plt.ylabel(\"Probability\")\n",
    "#plt.xlim(-0.1,1.1)\n",
    "plt.show()"
   ]
  },
  {
   "cell_type": "code",
   "execution_count": null,
   "id": "b15e4c67-14f8-40b1-b0b8-3d8e6d5c51fa",
   "metadata": {},
   "outputs": [],
   "source": []
  }
 ],
 "metadata": {
  "kernelspec": {
   "display_name": "Python 3 (ipykernel)",
   "language": "python",
   "name": "python3"
  },
  "language_info": {
   "codemirror_mode": {
    "name": "ipython",
    "version": 3
   },
   "file_extension": ".py",
   "mimetype": "text/x-python",
   "name": "python",
   "nbconvert_exporter": "python",
   "pygments_lexer": "ipython3",
   "version": "3.12.9"
  }
 },
 "nbformat": 4,
 "nbformat_minor": 5
}
