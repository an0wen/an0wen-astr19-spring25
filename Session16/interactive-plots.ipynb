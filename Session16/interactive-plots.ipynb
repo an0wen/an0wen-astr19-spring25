{
 "cells": [
  {
   "cell_type": "markdown",
   "id": "71cdce3c-b382-4766-85b2-621d89c04b9c",
   "metadata": {},
   "source": [
    "# Interactive plots with the ipywidget extension\n",
    "\n",
    "We can make our plots interactive with widgets."
   ]
  },
  {
   "cell_type": "code",
   "execution_count": null,
   "id": "2aadbfc4-27ec-4b3d-aee3-00b1c5da4456",
   "metadata": {},
   "outputs": [],
   "source": [
    "import numpy as np\n",
    "import matplotlib.pyplot as plt\n",
    "import ipywidgets as ipwy         # allows us to use interactive elements             "
   ]
  },
  {
   "cell_type": "markdown",
   "id": "11d1e171-ee03-4717-b081-fa32b95b6c5e",
   "metadata": {},
   "source": [
    "#### Create some data to plot"
   ]
  },
  {
   "cell_type": "code",
   "execution_count": null,
   "id": "30672e07-d911-4863-8591-5d93a5ed4bef",
   "metadata": {},
   "outputs": [],
   "source": [
    "x = np.linspace(-np.pi,np.pi,256,endpoint=True)\n",
    "cosx, sinx = np.cos(x), np.sin(x)"
   ]
  },
  {
   "cell_type": "markdown",
   "id": "9649b71c-722a-4e4d-a3ba-8cc50c47f5b9",
   "metadata": {},
   "source": [
    "#### Read in our defaults"
   ]
  },
  {
   "cell_type": "code",
   "execution_count": null,
   "id": "a10549ee-dc0c-4363-bacc-ed1d1279f7fe",
   "metadata": {},
   "outputs": [],
   "source": [
    "plt.style.use(\"astr19_matplotlib_style.txt\")"
   ]
  },
  {
   "cell_type": "markdown",
   "id": "0cabbbca-4080-4782-89d2-9232f25b45a0",
   "metadata": {},
   "source": [
    "#### Make a plot!"
   ]
  },
  {
   "cell_type": "code",
   "execution_count": null,
   "id": "60497ec2-db62-41bd-957e-87e671b2c5a0",
   "metadata": {},
   "outputs": [],
   "source": [
    "# put all instruction to plot a fancy line\n",
    "# **kwargs passes any number of keyword-arguments to the plt.plot function\n",
    "def plot_fancy_line(x,y,label,**kwargs):\n",
    "    ax = plt.gca() #if a plot exists, \"get fcurrent axes\" (gca) = get the active subplot\n",
    "    next_color = ax._get_lines.get_next_color()\n",
    "    plt.plot(x,y,label=label,color=next_color,**kwargs)\n",
    "    plt.plot(x,y,'o',markevery=10, zorder=10, markersize=6,color=next_color)\n",
    "    plt.plot(x,y,'o',markevery=10, zorder=11, markersize=3,color=\"white\")"
   ]
  },
  {
   "cell_type": "code",
   "execution_count": null,
   "id": "32e5b63b-86eb-4296-a885-2917a38bdbc8",
   "metadata": {},
   "outputs": [],
   "source": [
    "%matplotlib inline\n",
    "fig = plt.figure() # make an empty figure\n",
    "ax = plt.subplot(1,1,1) # add a single subplot on it\n",
    "\n",
    "plot_fancy_line(x,cosx,'cos(x)')\n",
    "plot_fancy_line(x,sinx,'sin(x)')\n",
    "\n",
    "ax.set_yticks([-1,0,1])\n",
    "ax.set_xlabel(\"x\")\n",
    "ax.set_ylabel(\"y\")\n",
    "ax.legend()\n",
    "plt.show()"
   ]
  },
  {
   "cell_type": "markdown",
   "id": "73e5586f-07ac-4b9f-a4c7-f252c043704d",
   "metadata": {},
   "source": [
    "#### Create interactive plots (requires interactive plots in notebook)"
   ]
  },
  {
   "cell_type": "code",
   "execution_count": null,
   "id": "69986738-41d4-44d2-8759-d33c8858e9fb",
   "metadata": {},
   "outputs": [],
   "source": [
    "# for each line drawn, we need to return elements\n",
    "def plot_fancy_line_return(x,y,label,**kwargs):\n",
    "    ax = plt.gca() #if a plot exists, \"get fcurrent axes\" (gca) = get the active subplot\n",
    "    next_color = ax._get_lines.get_next_color()\n",
    "    line1, = plt.plot(x,y,label=label,color=next_color,**kwargs)\n",
    "    dots1, = plt.plot(x,y,'o',markevery=10, zorder=10, markersize=6,color=next_color)\n",
    "    wdot1, = plt.plot(x,y,'o',markevery=10, zorder=11, markersize=3,color=\"white\")\n",
    "    return line1,dots1,wdot1"
   ]
  },
  {
   "cell_type": "code",
   "execution_count": null,
   "id": "0b0d6dea-8af2-4160-800b-bf1ff3e966fc",
   "metadata": {},
   "outputs": [],
   "source": [
    "# \"inline\" plots are static, but \"widget\" plots are interactive!!!\n",
    "# NB: this changes the setting at the level of jupyter, even if you close jupyter\n",
    "%matplotlib widget\n",
    "\n",
    "# First create the figure as usual\n",
    "fig = plt.figure() \n",
    "ax = plt.subplot(1,1,1)\n",
    "\n",
    "# Plots everything, and also stores plotting elements in a variable (class) for later use\n",
    "line1,dots1,wdot1 = plot_fancy_line_return(x,cosx,'cos(x)')\n",
    "line2,dots2,wdot2 = plot_fancy_line_return(x,sinx,'sin(x)')\n",
    "\n",
    "ax.set_xlabel('x')\n",
    "ax.set_ylabel('y')\n",
    "ax.legend(frameon=True,loc='upper left')\n",
    "\n",
    "# tighten up the layout\n",
    "plt.tight_layout()\n",
    "\n",
    "# Function that updates the plotting elements\n",
    "# based on the frame number\n",
    "def update(frame):\n",
    "    line1.set_data(x[:frame], cosx[:frame])   # data used for line1 is now X and C \n",
    "                                           # from 1-st to frame-th element\n",
    "    dots1.set_data(x[:frame], cosx[:frame])\n",
    "    wdot1.set_data(x[:frame], cosx[:frame])\n",
    "    \n",
    "    line2.set_data(x[:frame], sinx[:frame])\n",
    "    dots2.set_data(x[:frame], sinx[:frame])\n",
    "    wdot2.set_data(x[:frame], sinx[:frame])\n",
    "\n",
    "    # Creation and rendering of a figure are different statements.\n",
    "    # \"plt.plot\" adds elements to the figure, but \"plt.show()\" renders (draws) it.\n",
    "    # If not provided, the default properties like \"plt.xlim\" and \"plt.ylim\" are calculated from\n",
    "    # the data on the plotting region, and since \"plt.show()\" erases the figure, these\n",
    "    # properties are calculated every time the figure is created again.\n",
    "    # The statement below allows to update the content of a figure without\n",
    "    # recalculating properties like xlim and ylim.\n",
    "    fig.canvas.draw_idle()\n",
    "\n",
    "# Define slider of type \"Integer\"\n",
    "frame_slider = ipwy.IntSlider(min=1, max=len(x), step=1, value=1, description='Frame')\n",
    "\n",
    "# Create interactive plot\n",
    "ipwy.interact(update, frame=frame_slider)\n"
   ]
  },
  {
   "cell_type": "markdown",
   "id": "fe85b701-6db4-4cfc-8409-d69a4028fe83",
   "metadata": {},
   "source": [
    "#### Let's make another example"
   ]
  },
  {
   "cell_type": "code",
   "execution_count": null,
   "id": "f703e416-aa47-44c9-a912-9bbae0dbbea7",
   "metadata": {},
   "outputs": [],
   "source": [
    "# Function we will plot, and use slider to change a parameter\n",
    "def parabolla(x,a):\n",
    "    return a * x**2\n",
    "\n",
    "# Make an ellipse real quick with center location, horizontal radius, vertical radius\n",
    "def make_ellipse(center,r_x,r_y):\n",
    "    ellipse = patches.Ellipse( center,r_x,r_y,\n",
    "                          edgecolor=\"None\",\n",
    "                          facecolor=\"black\",\n",
    "                          alpha=1)\n",
    "    return ellipse"
   ]
  },
  {
   "cell_type": "code",
   "execution_count": null,
   "id": "fe101ffa-6c7c-4207-bf92-a291221070ce",
   "metadata": {},
   "outputs": [],
   "source": [
    "%matplotlib widget\n",
    "from matplotlib import patches\n",
    "\n",
    "# First create the figure as usual\n",
    "fig = plt.figure() ; ax = plt.subplot(1,1,1)\n",
    "\n",
    "# Initial value of a and x-coordinates\n",
    "#\n",
    "\n",
    "# Plot and store\n",
    "#\n",
    "\n",
    "# Plot properties\n",
    "#\n",
    "\n",
    "# Add some figure elements\n",
    "#\n",
    "#\n",
    "#\n",
    "#\n",
    "\n",
    "# Updates the plotting elements based on the value of parameter a\n",
    "def update():\n",
    "    #\n",
    "    fig.canvas.draw_idle()\n",
    "\n",
    "# Define slider of type \"Float\"\n",
    "#frame_slider\n",
    "\n",
    "# Create interactive plot\n",
    "#ipwy.interact()\n"
   ]
  },
  {
   "cell_type": "code",
   "execution_count": null,
   "id": "05a0f208-04ee-42c0-9114-6a19938321a2",
   "metadata": {},
   "outputs": [],
   "source": []
  }
 ],
 "metadata": {
  "kernelspec": {
   "display_name": "Python 3 (ipykernel)",
   "language": "python",
   "name": "python3"
  },
  "language_info": {
   "codemirror_mode": {
    "name": "ipython",
    "version": 3
   },
   "file_extension": ".py",
   "mimetype": "text/x-python",
   "name": "python",
   "nbconvert_exporter": "python",
   "pygments_lexer": "ipython3",
   "version": "3.12.9"
  }
 },
 "nbformat": 4,
 "nbformat_minor": 5
}
