{
 "cells": [
  {
   "cell_type": "markdown",
   "id": "92586331-9d0e-4564-b842-09c4d18b1657",
   "metadata": {},
   "source": [
    "# Simple Animations for ASTR 19\n",
    "\n",
    "Let's build from this to make some animations"
   ]
  },
  {
   "cell_type": "code",
   "execution_count": null,
   "id": "379abe9c-5148-4766-90e2-0f1827a8fc35",
   "metadata": {},
   "outputs": [],
   "source": [
    "import numpy as np\n",
    "import matplotlib.pyplot as plt\n",
    "import matplotlib.animation as animation   # allows us to save animations\n",
    "from tqdm.autonotebook import tqdm         # create a progress bar"
   ]
  },
  {
   "cell_type": "markdown",
   "id": "bd823409-1ea9-4de1-bf31-672155845061",
   "metadata": {},
   "source": [
    "#### Create some data to plot"
   ]
  },
  {
   "cell_type": "code",
   "execution_count": null,
   "id": "ca44ce26-ff96-405a-a90f-c57b738bf85e",
   "metadata": {},
   "outputs": [],
   "source": [
    "x = np.linspace(-np.pi,np.pi,256,endpoint=True)\n",
    "cosx, sinx = np.cos(x), np.sin(x)"
   ]
  },
  {
   "cell_type": "markdown",
   "id": "8ea9fac9-983f-40b1-91a3-e7f35b5a9e68",
   "metadata": {},
   "source": [
    "#### Read in our defaults"
   ]
  },
  {
   "cell_type": "code",
   "execution_count": null,
   "id": "36500f1e-e8ba-4577-901e-079a71ba8fd0",
   "metadata": {},
   "outputs": [],
   "source": [
    "plt.style.use(\"astr19_matplotlib_style.txt\")"
   ]
  },
  {
   "cell_type": "markdown",
   "id": "b2f239a2-bf80-4613-b9e3-5741eda545c4",
   "metadata": {},
   "source": [
    "#### Make a plot!"
   ]
  },
  {
   "cell_type": "code",
   "execution_count": null,
   "id": "a3f52f51-0f81-4099-889f-2ed8b4ca59bb",
   "metadata": {},
   "outputs": [],
   "source": [
    "# put all instruction to plot a fancy line\n",
    "# **kwargs passes any number of keyword-arguments to the plt.plot function\n",
    "def plot_fancy_line(x,y,label,**kwargs):\n",
    "    ax = plt.gca() #if a plot exists, \"get fcurrent axes\" (gca) = get the active subplot\n",
    "    next_color = ax._get_lines.get_next_color()\n",
    "    plt.plot(x,y,label=label,color=next_color,**kwargs)\n",
    "    plt.plot(x,y,'o',markevery=10, zorder=10, markersize=6,color=next_color)\n",
    "    plt.plot(x,y,'o',markevery=10, zorder=11, markersize=3,color=\"white\")"
   ]
  },
  {
   "cell_type": "code",
   "execution_count": null,
   "id": "1ffec0ce-3d15-4a3a-9b36-4444897b45c7",
   "metadata": {},
   "outputs": [],
   "source": [
    "fig = plt.figure() # make an empty figure\n",
    "ax = plt.subplot(1,1,1) # add a single subplot on it\n",
    "\n",
    "plot_fancy_line(x,cosx,'cos(x)')\n",
    "plot_fancy_line(x,sinx,'sin(x)')\n",
    "\n",
    "ax.set_yticks([-1,0,1])\n",
    "ax.set_xlabel(\"x\")\n",
    "ax.set_ylabel(\"y\")\n",
    "ax.legend()\n",
    "plt.show()"
   ]
  },
  {
   "cell_type": "markdown",
   "id": "f12202fb-2a16-4bc7-841b-6bb1042a31b2",
   "metadata": {},
   "source": [
    "#### Now let's try animating a curve and save as gif"
   ]
  },
  {
   "cell_type": "code",
   "execution_count": null,
   "id": "7f6387f3-2dd2-4276-a968-77a8f0d3697a",
   "metadata": {},
   "outputs": [],
   "source": [
    "# for each line drawn, we need to return elements\n",
    "def plot_fancy_line_return(x,y,label,**kwargs):\n",
    "    ax = plt.gca() #if a plot exists, \"get fcurrent axes\" (gca) = get the active subplot\n",
    "    next_color = ax._get_lines.get_next_color()\n",
    "    #plt.plot(x,y,label=label,color=next_color,**kwargs)\n",
    "    #plt.plot(x,y,'o',markevery=10, zorder=10, markersize=6,color=next_color)\n",
    "    #plt.plot(x,y,'o',markevery=10, zorder=11, markersize=3,color=\"white\")\n",
    "    return line1,dots1,wdot1"
   ]
  },
  {
   "cell_type": "code",
   "execution_count": null,
   "id": "1e7d6348-ed42-415b-8c33-66a9ddf4849a",
   "metadata": {},
   "outputs": [],
   "source": [
    "# First create the figure as usual\n",
    "fig = plt.figure() \n",
    "ax = plt.subplot(1,1,1)\n",
    "\n",
    "# Plots everything, and also stores plotting elements in a variable (class) for later use\n",
    "line1,dots1,wdot1 = plot_fancy_line_return(x,cosx,'cos(x)')\n",
    "line2,dots2,wdot2 = plot_fancy_line_return(x,sinx,'sin(x)')\n",
    "\n",
    "ax.set_xlabel('x')\n",
    "ax.set_ylabel('y')\n",
    "ax.legend(frameon=True,loc='upper left')\n",
    "\n",
    "# Function that updates the plotting elements\n",
    "# based on the frame number\n",
    "def update(frame):\n",
    "    #\n",
    "    #\n",
    "    #\n",
    "    #\n",
    "    #\n",
    "    #\n",
    "\n",
    "#tighten up the layout\n",
    "plt.tight_layout()\n",
    "\n",
    "# make the gif!\n",
    "# procedure somewhat similar to scipy.optimize.curve_fit\n",
    "# first argument: figure to work with\n",
    "# second argument: function that updates the plot for each frame\n",
    "ani = animation.FuncAnimation(fig, update, repeat=True, frames=len(x) - 1, interval=50)\n",
    "\n",
    "# save the animation using Pillow as a gif\n",
    "writer = animation.PillowWriter(fps=15,\n",
    "                                metadata=dict(artist='Me'),\n",
    "                                bitrate=1800)\n",
    "\n",
    "# make a progress bar of length len(X)\n",
    "bar = tqdm(total=len(x)) \n",
    "# Save the file as a gif -> the writer is Pillow.\n",
    "# progress_callback takes in a function of the shape f(i,n) where arguments are: frame i and total nb of frames n\n",
    "# and the function is being called for each index i.\n",
    "# Here, we bypass this structure with the anonymous function \"lambda\"\n",
    "# the statement \"lambda i, n: bar.update(1)\" can be read as \"def lambda(i,n): // bar.update(1) // return\"\n",
    "# except lambda is an ephemeral function that exists only for the duration of this line.\n",
    "# The reason we do this, is because it allows us to update the bar by 1 at each frame\n",
    "ani.save('sin-cos-animated.gif', writer=writer,dpi=100, progress_callback= lambda i, n: bar.update(1))\n",
    "bar.close()"
   ]
  },
  {
   "cell_type": "code",
   "execution_count": null,
   "id": "2d3a5368-5eb5-4e36-89a9-e00d880f0afd",
   "metadata": {},
   "outputs": [],
   "source": [
    "#### Now let's try animating a curve and save as mp4"
   ]
  },
  {
   "cell_type": "code",
   "execution_count": null,
   "id": "e2b9f501-8cb6-44c1-b040-b940aa1fea7d",
   "metadata": {},
   "outputs": [],
   "source": [
    "# First create the figure as usual\n",
    "fig = plt.figure() \n",
    "ax = plt.subplot(1,1,1)\n",
    "\n",
    "# Plots everything, and also stores it in a variable (class) for later use\n",
    "line1,dots1,wdot1 = plot_fancy_line_return(x,cosx,'cos(x)')\n",
    "line2,dots2,wdot2 = plot_fancy_line_return(x,sinx,'sin(x)')\n",
    "\n",
    "ax.set_xlabel('x')\n",
    "ax.set_ylabel('y')\n",
    "ax.legend(frameon=True,loc='upper left')\n",
    "\n",
    "# Function that updates the plot\n",
    "# based on the frame number\n",
    "def update(frame):\n",
    "    #\n",
    "    #\n",
    "    #\n",
    "    #\n",
    "    #\n",
    "    #\n",
    "\n",
    "# tighten up the layout\n",
    "plt.tight_layout()\n",
    "\n",
    "# make the mp4!\n",
    "# Same structure as for the gif, except we are going to use ffmpeg codec.\n",
    "writer = animation.FFMpegWriter(fps=30)\n",
    "ani = animation.FuncAnimation(fig, update, interval=10, frames=len(X)-1)\n",
    "\n",
    "# Create a progress bar\n",
    "bar = tqdm(total=len(X))\n",
    "# Same as before, except this time we save it as mp4 -> the writer is ffmpeg.\n",
    "ani.save(\"sin-cos-animated.mp4\", writer=writer, dpi=300, progress_callback= lambda i, n: bar.update(1))\n",
    "bar.close()"
   ]
  },
  {
   "cell_type": "code",
   "execution_count": null,
   "id": "c744f39c-db04-4d22-8d19-5c498c81e881",
   "metadata": {},
   "outputs": [],
   "source": []
  }
 ],
 "metadata": {
  "kernelspec": {
   "display_name": "Python 3 (ipykernel)",
   "language": "python",
   "name": "python3"
  },
  "language_info": {
   "codemirror_mode": {
    "name": "ipython",
    "version": 3
   },
   "file_extension": ".py",
   "mimetype": "text/x-python",
   "name": "python",
   "nbconvert_exporter": "python",
   "pygments_lexer": "ipython3",
   "version": "3.12.9"
  }
 },
 "nbformat": 4,
 "nbformat_minor": 5
}
