{
 "cells": [
  {
   "cell_type": "markdown",
   "id": "2ca3396f-ed38-476b-a23d-c3deb0fe1e90",
   "metadata": {},
   "source": [
    "# Setting Matplotlib Defaults for ASTR19\n",
    "In ASTR 19, we do really love our figures! In this class, we are going to create a Matplotlib style that sets the defaults for our figures. This exercise will help save us some time in the future."
   ]
  },
  {
   "cell_type": "code",
   "execution_count": null,
   "id": "7270c211-04ee-4422-a0da-a0c1bc0ee0fc",
   "metadata": {},
   "outputs": [],
   "source": [
    "import numpy as np\n",
    "import matplotlib.pyplot as plt\n",
    "%matplotlib inline"
   ]
  },
  {
   "cell_type": "markdown",
   "id": "d3f15f0d-1e01-4baf-a2d6-729421a3e0e3",
   "metadata": {},
   "source": [
    "#### Before getting started, let's look at the default colors"
   ]
  },
  {
   "cell_type": "code",
   "execution_count": null,
   "id": "74e8c258-63f7-47da-b256-c0a5cf89576e",
   "metadata": {},
   "outputs": [],
   "source": [
    "prop_cycle = plt.rcParams['axes.prop_cycle']\n",
    "colors = prop_cycle.by_key()['color']\n",
    "\n",
    "print(colors)"
   ]
  },
  {
   "cell_type": "markdown",
   "id": "894bc728-c3a7-451f-a3bc-4a27cb44c28e",
   "metadata": {},
   "source": [
    "#### Make a figure showing the default colors"
   ]
  },
  {
   "cell_type": "code",
   "execution_count": null,
   "id": "1fffb14d-04cb-482c-9618-02b0b95375c6",
   "metadata": {},
   "outputs": [],
   "source": [
    "fig = plt.figure(linewidth=1,figsize=(5,5))\n",
    "ax = plt.subplot(1,1,1,aspect=1)\n",
    "\n",
    "x = np.linspace(0,10,100)\n",
    "\n",
    "for i, color in enumerate(colors):\n",
    "    y = np.ones_like(x) * float(i) # create array same shape as x\n",
    "                                   # full on 1, then multiply by i\n",
    "    ax.plot(x,y,color=color,label=color)\n",
    "    \n",
    "ax.set_xlabel('x')\n",
    "ax.set_ylabel('y')\n",
    "\n",
    "# get legend, and color each line of the legend\n",
    "# as the same color as the line\n",
    "l = ax.legend()\n",
    "i = 0\n",
    "for i,text in enumerate(l.get_texts()):\n",
    "    text.set_color(colors[i])\n",
    "\n",
    "plt.show()"
   ]
  },
  {
   "cell_type": "markdown",
   "id": "574f5aae-fbad-4d30-be20-a183396422a8",
   "metadata": {},
   "source": [
    "#### We already saw before that there also exists many aliases for matplotlib colors"
   ]
  },
  {
   "cell_type": "code",
   "execution_count": null,
   "id": "7c1605a5-b8f4-464a-866c-0f418b95da40",
   "metadata": {},
   "outputs": [],
   "source": [
    "import matplotlib as mpl\n",
    "\n",
    "colors = mpl.colors.cnames.keys()\n",
    "num_colors = len(colors)\n",
    "print(f'There are {num_colors} different colors.')\n",
    "\n",
    "fig = plt.figure(figsize=(12,12))\n",
    "\n",
    "for i, color in enumerate(colors):\n",
    "    column = np.array(float(i%10))\n",
    "    row = 2*np.array(int(i/10))\n",
    "    plt.plot(column,row,marker='s',markersize=15,color=color)\n",
    "    plt.annotate(color,(column-0.2,row+0.8),fontsize=6)\n",
    "\n",
    "plt.show()"
   ]
  },
  {
   "cell_type": "markdown",
   "id": "954298ad-f70f-457d-8f57-837adea29e72",
   "metadata": {},
   "source": [
    "# Enough with the defaults, let's make our own style!"
   ]
  },
  {
   "cell_type": "markdown",
   "id": "37efc968-baf7-4279-823d-6193962811cb",
   "metadata": {},
   "source": [
    "#### Create some data to plot"
   ]
  },
  {
   "cell_type": "code",
   "execution_count": null,
   "id": "f69a0ab8-095d-46ba-a44f-753d58b32019",
   "metadata": {},
   "outputs": [],
   "source": [
    "x = np.linspace(-np.pi,np.pi,256,endpoint=True)\n",
    "cosx, sinx = np.cos(x), np.sin(x)"
   ]
  },
  {
   "cell_type": "markdown",
   "id": "a532d0a4-443d-46c0-a37b-e09cafd421c8",
   "metadata": {},
   "source": [
    "#### Make a (boring) plot using the matplotlib default"
   ]
  },
  {
   "cell_type": "code",
   "execution_count": null,
   "id": "5395d6f1-cbe6-4de3-aec6-bb80c662f6f5",
   "metadata": {},
   "outputs": [],
   "source": [
    "fig = plt.figure(linewidth=1, figsize=(10,5))\n",
    "ax = plt.subplot(1,1,1,aspect=1)\n",
    "ax.plot(x,cosx,label='cos(x)')\n",
    "ax.plot(x,sinx,label='sin(x)')\n",
    "ax.set_yticks([-1,0,1])\n",
    "ax.set_xlabel('x')\n",
    "ax.set_ylabel('y')\n",
    "ax.legend()\n",
    "plt.show()"
   ]
  },
  {
   "cell_type": "markdown",
   "id": "524ae197-90a0-401b-a8e6-87e84c234f2e",
   "metadata": {},
   "source": [
    "#### Check content of our own style"
   ]
  },
  {
   "cell_type": "code",
   "execution_count": null,
   "id": "34c31765-3908-4675-b081-3d1841e0935a",
   "metadata": {},
   "outputs": [],
   "source": [
    "#the \"!\" symbols runs commands in the terminal\n",
    "#and prints out the result below the cell\n",
    "#meaning you would get the same result by\n",
    "#typing \"cat astr19_matplotlib_style.txt\" in the terminal/powershell\n",
    "!cat astr19_matplotlib_style.txt"
   ]
  },
  {
   "cell_type": "markdown",
   "id": "483872fd-43a0-444d-bd2f-b329e605d14b",
   "metadata": {},
   "source": [
    "#### Read in our defaults and test with a simple plot"
   ]
  },
  {
   "cell_type": "code",
   "execution_count": null,
   "id": "e814f13c-667c-4714-ac92-ba956564069b",
   "metadata": {},
   "outputs": [],
   "source": [
    "plt.style.use(\"astr19_matplotlib_style.txt\")"
   ]
  },
  {
   "cell_type": "code",
   "execution_count": null,
   "id": "0b7a4382-1062-4711-bf5e-a3c00772a400",
   "metadata": {},
   "outputs": [],
   "source": []
  },
  {
   "cell_type": "markdown",
   "id": "52f46953-9008-402c-83ee-202993b735fc",
   "metadata": {},
   "source": [
    "#### Create a fancy line style"
   ]
  },
  {
   "cell_type": "code",
   "execution_count": null,
   "id": "d5033b6b-a702-4394-97d1-6d268236acb9",
   "metadata": {},
   "outputs": [],
   "source": []
  },
  {
   "cell_type": "markdown",
   "id": "1ebd1317-2f1f-4bce-84ab-698b794854b3",
   "metadata": {},
   "source": [
    "#### Make a plot!"
   ]
  },
  {
   "cell_type": "code",
   "execution_count": null,
   "id": "4f7690be-3208-4e9b-9444-2907b7663bfd",
   "metadata": {},
   "outputs": [],
   "source": []
  },
  {
   "cell_type": "code",
   "execution_count": null,
   "id": "b490dcaf-06fd-43a0-85bc-3283790d2a4d",
   "metadata": {},
   "outputs": [],
   "source": []
  },
  {
   "cell_type": "code",
   "execution_count": null,
   "id": "71a325dd-477e-4af0-86e8-83d643571f29",
   "metadata": {},
   "outputs": [],
   "source": []
  }
 ],
 "metadata": {
  "kernelspec": {
   "display_name": "Python 3 (ipykernel)",
   "language": "python",
   "name": "python3"
  },
  "language_info": {
   "codemirror_mode": {
    "name": "ipython",
    "version": 3
   },
   "file_extension": ".py",
   "mimetype": "text/x-python",
   "name": "python",
   "nbconvert_exporter": "python",
   "pygments_lexer": "ipython3",
   "version": "3.12.9"
  }
 },
 "nbformat": 4,
 "nbformat_minor": 5
}
