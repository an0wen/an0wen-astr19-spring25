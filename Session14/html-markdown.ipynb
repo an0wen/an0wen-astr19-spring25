{
 "cells": [
  {
   "cell_type": "markdown",
   "id": "d7ce52dc-c82e-4742-b1c9-61abd2d3999b",
   "metadata": {},
   "source": [
    "# Markdown cells are HTML\n",
    "\n",
    "What fancy stuff can we do with them?\n",
    "\n",
    "When cells contain information that we don't want to be interpret as *code* <br>nor as html (*markdown*), we can use \"Raw\" so it is interpreted as pure text (like in SublimeText)."
   ]
  }
 ],
 "metadata": {
  "kernelspec": {
   "display_name": "Python 3 (ipykernel)",
   "language": "python",
   "name": "python3"
  },
  "language_info": {
   "codemirror_mode": {
    "name": "ipython",
    "version": 3
   },
   "file_extension": ".py",
   "mimetype": "text/x-python",
   "name": "python",
   "nbconvert_exporter": "python",
   "pygments_lexer": "ipython3",
   "version": "3.12.9"
  }
 },
 "nbformat": 4,
 "nbformat_minor": 5
}
