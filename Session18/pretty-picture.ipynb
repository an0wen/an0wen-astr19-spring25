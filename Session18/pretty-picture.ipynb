{
 "cells": [
  {
   "cell_type": "markdown",
   "id": "6340f604-0750-466b-8cba-aa7da73ff576",
   "metadata": {},
   "source": [
    "# ASTR19 Pretty Picture Notebook\n",
    "\n",
    "The goal of this notebook is to make a pretty picture from some simulated JWST astronomical data. We will create an RGB image and save it as a .png file."
   ]
  },
  {
   "cell_type": "code",
   "execution_count": null,
   "id": "25f25254-3eb0-4890-a8bc-91af5c29eeea",
   "metadata": {},
   "outputs": [],
   "source": [
    "import matplotlib.pyplot as plt\n",
    "import numpy as np\n",
    "from astropy.io import fits"
   ]
  },
  {
   "cell_type": "code",
   "execution_count": null,
   "id": "822a6fc0-5662-48e2-ac63-063297d61907",
   "metadata": {},
   "outputs": [],
   "source": [
    "# define file names\n",
    "fdata_F277W = \"data_18/F277W_cutout.fits\"\n",
    "fdata_F356W = \"data_18/F356W_cutout.fits\"\n",
    "fdata_F444W = \"data_18/F444W_cutout.fits\"\n",
    "\n",
    "# open the fits files\n",
    "hdu_2 = fits.open(fdata_F277W)\n",
    "hdu_3 = fits.open(fdata_F356W)\n",
    "hdu_4 = fits.open(fdata_F444W)\n",
    "\n",
    "# show information about fits files\n",
    "hdu_2.info()\n",
    "hdu_3.info()\n",
    "hdu_4.info()"
   ]
  },
  {
   "cell_type": "markdown",
   "id": "aac43b4d-5dc5-4eee-96a0-29c1b9062ce4",
   "metadata": {},
   "source": [
    "In all files, the \"primary\" data is an image of size 2000x2000 encoded as floats (with 32 bits), and it is in the \"row\" No 0 of that data."
   ]
  },
  {
   "cell_type": "code",
   "execution_count": null,
   "id": "0d10ca3a-d0e1-4fe8-a0ce-9a938ce1f4ee",
   "metadata": {},
   "outputs": [],
   "source": [
    "# get the image data\n",
    "data_2 = hdu_2[0].data\n",
    "data_3 = hdu_3[0].data\n",
    "data_4 = hdu_4[0].data"
   ]
  },
  {
   "cell_type": "code",
   "execution_count": null,
   "id": "d5506531-8add-4d47-80e4-55bcc278c26a",
   "metadata": {},
   "outputs": [],
   "source": [
    "# when in doubt, print out!"
   ]
  },
  {
   "cell_type": "markdown",
   "id": "2efaa248-7890-4404-b368-810c323df015",
   "metadata": {},
   "source": [
    "#### Have a look at the data\n",
    "\n",
    "The data arrays are images, so let's have a look at the data."
   ]
  },
  {
   "cell_type": "code",
   "execution_count": null,
   "id": "c0bfb145-4d31-4456-8412-03dca52cf34d",
   "metadata": {},
   "outputs": [],
   "source": [
    "# First, plot the data as is\n",
    "f = plt.figure(figsize=(7,7))\n",
    "plt.imshow(data_2)\n",
    "plt.colorbar()"
   ]
  },
  {
   "cell_type": "markdown",
   "id": "70d4d79f-9fb8-4d6f-bd61-18344aae1640",
   "metadata": {},
   "source": [
    "#### Why does the image look blank?\n",
    "\n",
    "We are again in a situation where a few points are extremely bright, and everything else looks pale in comparison. We need to rescale the data, but applying the log-scale won't work because some data points are negative! Even worse: some points are NaN (Not a Number) because there was a bug during measurement.\n",
    "\n",
    "We will define a threshold that will correspond to some minimum level, and a maximum level, both dependent on the data.\n",
    "\n",
    "Let's a script to do that."
   ]
  },
  {
   "cell_type": "code",
   "execution_count": null,
   "id": "16538658-a9ad-4022-b409-204b2b184c32",
   "metadata": {},
   "outputs": [],
   "source": [
    "def rescale_image(data,vmin=0.5,vmax=100):\n",
    "    # copy the data to avoid accidentaly overwriting it\n",
    "    data_tmp = data.copy()\n",
    "\n",
    "    # compute the mean value over all data, excluding NaN (Not a Number)\n",
    "    m = np.nanmean(data_tmp)\n",
    "\n",
    "    # any data points below vpmin is assigned the value vpmin\n",
    "    # any data points above vpmax is assigned the value vpmax\n",
    "    vpmin = vmin * m\n",
    "    vpmax = vmax * m\n",
    "    data_tmp[data_tmp < vpmin] = vpmin\n",
    "    data_tmp[data_tmp > vpmax] = vpmax\n",
    "    \n",
    "    # replace all NaN by vpmin\n",
    "    data_tmp = np.nan_to_num(data_tmp,nan=vpmin)\n",
    "\n",
    "    # apply log-scale\n",
    "    data_tmp = np.log10(data_tmp)\n",
    "    return data_tmp"
   ]
  },
  {
   "cell_type": "markdown",
   "id": "a4c407b9-f350-4235-afd2-d2c7eef68752",
   "metadata": {},
   "source": [
    "#### Now let's take a quick look at rescaled data"
   ]
  },
  {
   "cell_type": "code",
   "execution_count": null,
   "id": "fe1e827f-b5e5-4660-af10-e78fcc16897d",
   "metadata": {},
   "outputs": [],
   "source": [
    "f = plt.figure(figsize=(5,5))\n",
    "\n",
    "data_res = rescale_image(data_2)\n",
    "\n",
    "plt.imshow(data_res)"
   ]
  },
  {
   "cell_type": "markdown",
   "id": "2927580a-8600-4b44-a590-a0173cfdf67b",
   "metadata": {},
   "source": [
    "# Let's make a 3-color image from these data"
   ]
  },
  {
   "cell_type": "code",
   "execution_count": null,
   "id": "bf1a3313-5b96-4bf3-85f7-410972f75b41",
   "metadata": {},
   "outputs": [],
   "source": [
    "### Let's combine the data into a single object, where each layer will correspond to a color\n",
    "data_all = np.zeros((data_2.shape[0],data_2.shape[1],3))\n",
    "\n",
    "data_all[:,:,0] = data_2 #red is filter F277W\n",
    "data_all[:,:,1] = data_3 #green is filter F356W\n",
    "data_all[:,:,2] = data_4 #blue is filter F444W\n",
    "\n",
    "# rescale the data so we can see features\n",
    "# try different values of vmin and vmax!\n",
    "data_all_res = rescale_image(data_all)"
   ]
  },
  {
   "cell_type": "code",
   "execution_count": null,
   "id": "7acd6741-3b1c-4a13-9f1f-11c5e308a0b9",
   "metadata": {},
   "outputs": [],
   "source": [
    "print(np.shape(data_all_res))"
   ]
  },
  {
   "cell_type": "markdown",
   "id": "66a48a41-46ca-4729-9bbc-a3e5a03105af",
   "metadata": {},
   "source": [
    "#### Make a function to map data to [0,1] rgb values\n",
    "\n",
    "Right now, data_all_res array contains values of intensity (in arbitrary units), but it needs to be mapped to [0,1] for RGB coloring. Let's define a function a function that does this automatically."
   ]
  },
  {
   "cell_type": "code",
   "execution_count": null,
   "id": "a07b4b50-a2df-4b83-bc14-9576676140c0",
   "metadata": {},
   "outputs": [],
   "source": [
    "def remap(data):\n",
    "    #copy the data to avoid accidently overwriting it\n",
    "    data_tmp = data.copy()\n",
    "\n",
    "    dmin = data_tmp.min()\n",
    "    dmax = data_tmp.max()\n",
    "    return (data_tmp - dmin)/(dmax-dmin)"
   ]
  },
  {
   "cell_type": "markdown",
   "id": "53036c8e-4bc3-45a8-972c-819707929d7d",
   "metadata": {},
   "source": [
    "#### Create an RGB image that is nx * ny * 3 in size, where each image is either R, G or B"
   ]
  },
  {
   "cell_type": "code",
   "execution_count": null,
   "id": "b38781ad-33d2-432f-83b7-1cacd234c6da",
   "metadata": {},
   "outputs": [],
   "source": [
    "rgb_image = np.zeros((data_2.shape[0],data_2.shape[1],3))\n",
    "\n",
    "rgb_image = remap(data_all_res)"
   ]
  },
  {
   "cell_type": "markdown",
   "id": "feb39b91-4964-4fe0-96f9-70eb46fccd97",
   "metadata": {},
   "source": [
    "#### Plot the RGB image and save to a PNG"
   ]
  },
  {
   "cell_type": "code",
   "execution_count": null,
   "id": "6e3b36a0-c547-4a15-ad62-4340882499fb",
   "metadata": {},
   "outputs": [],
   "source": [
    "f,ax = plt.subplots(1,1,figsize=(7,7))\n",
    "ax.axis('off')\n",
    "ax.imshow(rgb_image)\n",
    "\n",
    "plt.savefig('jwst_image.png',bbox_inches='tight',pad_inches=0,dpi=600)"
   ]
  },
  {
   "cell_type": "markdown",
   "id": "4e59a6b0-7726-410c-b365-4c505e9ae8e5",
   "metadata": {},
   "source": [
    "This image is simulated JWST data from before its launch. JWST was launched in 2021 and started collecting data in 2022. In the Final Project, you are using actual JWST data. You will be looking at distant structures of our Universe using the most powerfull telescope built by humankind."
   ]
  },
  {
   "cell_type": "code",
   "execution_count": null,
   "id": "fe29dd34-2790-4355-94d7-b6bcdb10105b",
   "metadata": {},
   "outputs": [],
   "source": []
  }
 ],
 "metadata": {
  "kernelspec": {
   "display_name": "Python 3 (ipykernel)",
   "language": "python",
   "name": "python3"
  },
  "language_info": {
   "codemirror_mode": {
    "name": "ipython",
    "version": 3
   },
   "file_extension": ".py",
   "mimetype": "text/x-python",
   "name": "python",
   "nbconvert_exporter": "python",
   "pygments_lexer": "ipython3",
   "version": "3.12.9"
  }
 },
 "nbformat": 4,
 "nbformat_minor": 5
}
