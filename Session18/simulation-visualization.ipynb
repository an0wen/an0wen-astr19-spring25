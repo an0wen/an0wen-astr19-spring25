{
 "cells": [
  {
   "cell_type": "markdown",
   "id": "7cb5c7e3-35b3-4f35-9e6d-e5a8108970d3",
   "metadata": {},
   "source": [
    "# A visualization of an astrophysical simulation\n",
    "\n",
    "There are two files, \"density_projection.dat\" and \"energy_projection.dat\", that contain the gas density and internal energy from a slice of simulated data through a cosmological simulation. Let's read them and make a three color image."
   ]
  },
  {
   "cell_type": "code",
   "execution_count": null,
   "id": "9b91d37e-0e86-4742-9a34-d65420a4d32e",
   "metadata": {},
   "outputs": [],
   "source": [
    "import numpy as np\n",
    "import matplotlib.pyplot as plt\n",
    "import matplotlib.colors as colors"
   ]
  },
  {
   "cell_type": "markdown",
   "id": "39b41f38-e2c1-4bc0-9b9d-47b9ec5b750e",
   "metadata": {},
   "source": [
    "#### Read in the density profile\n",
    "\n",
    "The file is a 512x512 projection of a 512x512x512 dataset (one 2D layer of a 3D box). The data is written (in hexadecimal) as a 1D array of 512*512 elements, that we need to convert to a 2D array of 512x512 elements. We can read this using numpy's fromfile() function, and reshape with numpy's reshape() function."
   ]
  },
  {
   "cell_type": "code",
   "execution_count": null,
   "id": "843896ba-7fd4-475c-ac1b-9c8939a90ad5",
   "metadata": {},
   "outputs": [],
   "source": [
    "fname = \"data_18/density_projection.dat\"\n",
    "densitydata = np.fromfile(fname,dtype=np.float32)\n",
    "density = np.reshape(densitydata,(512,512))"
   ]
  },
  {
   "cell_type": "code",
   "execution_count": null,
   "id": "d66a4f5a-3b75-49f3-9053-a87ed5377003",
   "metadata": {},
   "outputs": [],
   "source": [
    "# when in doubt, print out!\n"
   ]
  },
  {
   "cell_type": "code",
   "execution_count": null,
   "id": "00353592-c410-4e1b-bb98-d4f81257033c",
   "metadata": {},
   "outputs": [],
   "source": [
    "# when in doubt, print out!\n"
   ]
  },
  {
   "cell_type": "markdown",
   "id": "08d87d11-e7fe-47ee-8ce0-52a3d7edff56",
   "metadata": {},
   "source": [
    "#### Repeat for the energy file"
   ]
  },
  {
   "cell_type": "code",
   "execution_count": null,
   "id": "3e9d9ec8-071d-4b38-b175-2b92ca8de94b",
   "metadata": {},
   "outputs": [],
   "source": [
    "fname = \"data_18/energy_projection.dat\"\n",
    "energydata = np.fromfile(fname,dtype=np.float32)\n",
    "energy = np.reshape(energydata,(512,512))"
   ]
  },
  {
   "cell_type": "code",
   "execution_count": null,
   "id": "b28b6a62-7868-4e8d-a1be-9257e9e22d1c",
   "metadata": {},
   "outputs": [],
   "source": [
    "# when in doubt, print out!\n"
   ]
  },
  {
   "cell_type": "code",
   "execution_count": null,
   "id": "6dcc6ff7-1d7a-4adb-8777-c2ccd5a5591b",
   "metadata": {},
   "outputs": [],
   "source": [
    "# when in doubt, print out!\n"
   ]
  },
  {
   "cell_type": "markdown",
   "id": "2015c7db-3251-4eb0-9700-e17ce8bc417c",
   "metadata": {},
   "source": [
    "#### Let's plot the density"
   ]
  },
  {
   "cell_type": "code",
   "execution_count": null,
   "id": "e23dc7a1-e018-4b31-8450-aa09b9e41d17",
   "metadata": {},
   "outputs": [],
   "source": [
    "f = plt.figure(figsize=(5,5))\n",
    "# apply logscale to the values of density\n",
    "density_log = np.log10(density)\n",
    "plt.imshow(density_log,origin='lower')"
   ]
  },
  {
   "cell_type": "code",
   "execution_count": null,
   "id": "5b101f71-25d6-4885-91fe-d88d36083ac7",
   "metadata": {},
   "outputs": [],
   "source": [
    "# what the log?\n"
   ]
  },
  {
   "cell_type": "code",
   "execution_count": null,
   "id": "e64e05e7-10ff-4490-b256-e88f8d919253",
   "metadata": {},
   "outputs": [],
   "source": [
    "f = plt.figure(figsize=(5,5))\n",
    "# apply logscale to the values of energy\n",
    "energy_log = np.log10(energy)\n",
    "plt.imshow(energy_log,origin='lower')"
   ]
  },
  {
   "cell_type": "markdown",
   "id": "fb822f62-856c-4c82-b168-09f21e91eb0a",
   "metadata": {},
   "source": [
    "# Making a 3-color image\n",
    "\n",
    "We can combine the density and energy maps into a single image by using different colors to separate both quantities. One way to achieve this is to use the HSV color space.<br>\n",
    "Here, H=[0,1] corresponds to the color wheel going from red -> yellow -> green -> cyan -> blue -> purple -> red.<br>\n",
    "S=[0,1] is the saturation of the color, with 0 being white, and 1 being a deep color.<br>\n",
    "V=[0,1] is the value (or intensity, or brightness) of the color, with 0 being black, and 1 is the color defined by H and S.<br>\n",
    "\n",
    "We will map density to V and S, and energy to H."
   ]
  },
  {
   "cell_type": "code",
   "execution_count": null,
   "id": "df6dd412-bdae-4d9a-a501-f5da960cc845",
   "metadata": {},
   "outputs": [],
   "source": [
    "# find the range of values for density_log\n",
    "d_min = density_log.min()\n",
    "d_max = density_log.max()\n",
    "\n",
    "# rescale d_log into an array v such that v=[0,1] (black -> color)\n",
    "# v has the same dimension as density_log (2D array)\n",
    "v = (density_log - d_min) / (d_max-d_min)\n",
    "\n",
    "# define s to be the \"oppostie\" of v such that S=[1,0] (white -> color)\n",
    "s = 1.0 - v"
   ]
  },
  {
   "cell_type": "code",
   "execution_count": null,
   "id": "ca8a6ca1-8a60-4b98-aed3-1016cd9bb002",
   "metadata": {},
   "outputs": [],
   "source": [
    "# find the range of values for energy_log\n",
    "e_min = energy_log.min()\n",
    "e_max = energy_log.max()\n",
    "\n",
    "# rescale energy_log to H=[1,0.8] (red -> purple)\n",
    "h = 0.8 - 0.2*(energy_log - e_min)/(e_max-e_min)\n",
    "\n",
    "# alternative coloring\n",
    "# rescale energy_log to H=[0.2,0.0] (yellow -> red)\n",
    "#h = 0.2 - 0.2*(energy_log - e_min)/(e_max-e_min)"
   ]
  },
  {
   "cell_type": "markdown",
   "id": "a5428667-3404-4aec-9860-2c1b7609b7b6",
   "metadata": {},
   "source": [
    "#### Now we have to make a HSV image, and convert this to RGB"
   ]
  },
  {
   "cell_type": "code",
   "execution_count": null,
   "id": "dd3a1d76-7b64-42b7-8720-fc8d71134f95",
   "metadata": {},
   "outputs": [],
   "source": [
    "# define empty array of same size as data, but with 3 layers for H, S and V.\n",
    "hsv_image = np.zeros((512,512,3))\n",
    "\n",
    "hsv_image[:,:,0] = h\n",
    "hsv_image[:,:,1] = s\n",
    "hsv_image[:,:,2] = v\n",
    "\n",
    "rgb_convert = colors.hsv_to_rgb(hsv_image)"
   ]
  },
  {
   "cell_type": "markdown",
   "id": "95e3b261-b6de-46df-a936-ae2f50407d90",
   "metadata": {},
   "source": [
    "#### Now let's see the 3-color image"
   ]
  },
  {
   "cell_type": "code",
   "execution_count": null,
   "id": "3494acc4-4c50-4703-8927-24a88a99e628",
   "metadata": {},
   "outputs": [],
   "source": [
    "f = plt.figure(figsize=(7,7))\n",
    "plt.imshow(rgb_convert,origin='lower')"
   ]
  },
  {
   "cell_type": "markdown",
   "id": "9e38f1d1-3c25-46d2-b4b0-60b4cd0e0dda",
   "metadata": {},
   "source": [
    "#### What if we try to use the RGB scheme instead?"
   ]
  },
  {
   "cell_type": "code",
   "execution_count": null,
   "id": "e3068961-43ae-4577-bbe2-3fcf8b6a774a",
   "metadata": {},
   "outputs": [],
   "source": [
    "rgb_image = np.zeros((512,512,3))\n",
    "\n",
    "#density is mapped to red\n",
    "rgb_image[:,:,0] = (density_log - d_min)/(d_max-d_min)\n",
    "#density is also mapped to green\n",
    "rgb_image[:,:,1] = (density_log - d_min)/(d_max-d_min)\n",
    "#energy is mapped to blue\n",
    "rgb_image[:,:,2] = (energy_log - e_min)/(e_max-e_min)\n",
    "\n",
    "f = plt.figure(figsize=(7,7))\n",
    "plt.imshow(rgb_image,origin='lower')"
   ]
  },
  {
   "cell_type": "code",
   "execution_count": null,
   "id": "94121779-1136-48ef-b385-28f830816a21",
   "metadata": {},
   "outputs": [],
   "source": []
  },
  {
   "cell_type": "code",
   "execution_count": null,
   "id": "8f769517-37d8-47c5-b2a6-018299a69366",
   "metadata": {},
   "outputs": [],
   "source": []
  }
 ],
 "metadata": {
  "kernelspec": {
   "display_name": "Python 3 (ipykernel)",
   "language": "python",
   "name": "python3"
  },
  "language_info": {
   "codemirror_mode": {
    "name": "ipython",
    "version": 3
   },
   "file_extension": ".py",
   "mimetype": "text/x-python",
   "name": "python",
   "nbconvert_exporter": "python",
   "pygments_lexer": "ipython3",
   "version": "3.12.9"
  }
 },
 "nbformat": 4,
 "nbformat_minor": 5
}
