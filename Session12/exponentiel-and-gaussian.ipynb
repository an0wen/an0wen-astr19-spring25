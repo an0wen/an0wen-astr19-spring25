{
 "cells": [
  {
   "cell_type": "markdown",
   "id": "7a846596-2c1a-41b6-a62c-d061fa54450a",
   "metadata": {},
   "source": [
    "# Exponential and Gaussian\n",
    "\n",
    "In this class, we already saw the exponential function, and we talked about the normal (gaussian) distribution. Let's take a closer look to understand what they are."
   ]
  },
  {
   "cell_type": "markdown",
   "id": "7478e76f-b52f-4477-9f87-476001c11c5c",
   "metadata": {},
   "source": [
    "The exponential function is a special case of the ***power*** function.<br>\n",
    "Raising a number to a power $n$ means multiplying that number by itself $n$ times.<br>\n",
    "Example: $5^4 = 5\\times 5 \\times 5 \\times 5$\n",
    "\n",
    "The exponential function is $\\exp(x) = e^x$, meaning we multiply the number $e\\simeq 2.71828$ by itself $x$ times."
   ]
  },
  {
   "cell_type": "code",
   "execution_count": null,
   "id": "a1052839-5497-4622-9367-951248d1b79a",
   "metadata": {},
   "outputs": [],
   "source": [
    "import numpy as np\n",
    "from tabulate import tabulate\n",
    "\n",
    "# Create array x from 0 to 10 with steps of 1\n",
    "x = np.arange(0, 11, 1)\n",
    "\n",
    "# Create arrays for 2^x, e^x, and 10^x\n",
    "y1 =\n",
    "y2 =\n",
    "y3 =\n",
    "\n",
    "# Create a table\n",
    "table_data = list(zip(x, y1, y2, y3))\n",
    "\n",
    "# Print the table\n",
    "table_headers = [\"x\", \"2^x\", \"e^x\", \"10^x\"]\n",
    "print(tabulate(table_data, headers=table_headers, tablefmt=\"fancy_grid\"))\n"
   ]
  },
  {
   "cell_type": "code",
   "execution_count": null,
   "id": "289b6931-5382-4daa-9525-82b642f74bca",
   "metadata": {},
   "outputs": [],
   "source": [
    "import matplotlib.pyplot as plt"
   ]
  },
  {
   "cell_type": "code",
   "execution_count": null,
   "id": "4fd8cc13-47a9-4fe4-b641-4a79cbfabafb",
   "metadata": {},
   "outputs": [],
   "source": [
    "#plot the 3 functions\n",
    "x = np.linspace(-3,3,200)\n",
    "\n",
    "y1 =\n",
    "y2 =\n",
    "y3 =\n",
    "\n",
    "plt.plot(x,y1,label='2^x')\n",
    "plt.plot(x,y2,label='e^x')\n",
    "plt.plot(x,y3,label='10^x')\n",
    "plt.legend()\n",
    "plt.ylim(0,10)\n",
    "plt.show()"
   ]
  },
  {
   "cell_type": "markdown",
   "id": "a327e187-cacd-488a-9c5b-f1b5810a225b",
   "metadata": {},
   "source": [
    "Now that we understand a bit better what this exponential function is, let's construct the gaussian function.\n",
    "\n",
    "First, let's draw the equation $y = -x^2$. This is called by mathematicians a \"parabolla\" (a squared function -- or a polynomial of order 2)\n",
    "in this whole notebook, we work with a parabolla looking \"down\", but if we change the sign the parabolla will look \"up\"."
   ]
  },
  {
   "cell_type": "code",
   "execution_count": null,
   "id": "ee34cf0b-ce42-40d3-b5d0-b115af6c24e2",
   "metadata": {},
   "outputs": [],
   "source": [
    "x = np.linspace(-3,3,200)\n",
    "y =\n",
    "plt.plot(x,y)\n",
    "plt.xlim(-3,3)\n",
    "plt.ylim(-2,2)\n",
    "plt.show()"
   ]
  },
  {
   "cell_type": "markdown",
   "id": "1948b6ef-eb44-458a-b2da-bc1a9750974a",
   "metadata": {},
   "source": [
    "Any parabolla is determined by 3 parameters: its height, its width, and the position of the \"peak\"."
   ]
  },
  {
   "cell_type": "code",
   "execution_count": null,
   "id": "c83e92cd-3e39-4177-b26d-10b69a046b1a",
   "metadata": {},
   "outputs": [],
   "source": [
    "height = 1\n",
    "width = 0.1\n",
    "peak_loc = 1\n",
    "x = np.linspace(-3,3,200)\n",
    "y =\n",
    "plt.plot(x,y)\n",
    "plt.xlim(-3,3)\n",
    "plt.ylim(-2,2)\n",
    "plt.show()"
   ]
  },
  {
   "cell_type": "markdown",
   "id": "11d22b4f-b8d8-4cdd-9a08-83de0901f176",
   "metadata": {},
   "source": [
    "We obtain a gaussian function by applying the exponential function to a parabolla that looks down."
   ]
  },
  {
   "cell_type": "code",
   "execution_count": null,
   "id": "3c6605aa-3962-4d5a-8485-8f88a440edd1",
   "metadata": {},
   "outputs": [],
   "source": [
    "height = 1\n",
    "width = 1\n",
    "peak_loc = 1\n",
    "x = np.linspace(-3,3,200)\n",
    "y =\n",
    "y =\n",
    "plt.plot(x,y)\n",
    "plt.xlim(-3,3)\n",
    "plt.ylim(-2,2)\n",
    "plt.show()"
   ]
  },
  {
   "cell_type": "markdown",
   "id": "0ab6dd1a-d26c-403c-9efa-9c235ddc2741",
   "metadata": {},
   "source": [
    "It is possible to show that the \"height\" of the parabolla is the same thing as the \"amplitude\" of the gaussian (not equal, but same meaning)"
   ]
  },
  {
   "cell_type": "code",
   "execution_count": null,
   "id": "23f35cf5-1d63-4139-927c-ee062577db89",
   "metadata": {},
   "outputs": [],
   "source": [
    "amplitude = 1\n",
    "width = 1\n",
    "peak_loc = 1\n",
    "x = np.linspace(-3,3,200)\n",
    "y =\n",
    "y =\n",
    "plt.plot(x,y)\n",
    "plt.xlim(-3,3)\n",
    "plt.ylim(-2,2)\n",
    "plt.show()"
   ]
  },
  {
   "cell_type": "markdown",
   "id": "f0c42a11-c565-412f-a4d1-8e5d7bdd475a",
   "metadata": {},
   "source": [
    "The gaussian function has 3 parameters. However, when talking about probabilities we need the area under the curve to be 1.\n",
    "\n",
    "This means that the amplitude and width are ***not*** independent. We then use the width to compute the amplitude that gives area = 1. This gaussian function that has two parameters (peak location and width) is called the *normal distribution*."
   ]
  },
  {
   "cell_type": "code",
   "execution_count": null,
   "id": "4a830fca-6e73-4b8d-977d-de36da9fad18",
   "metadata": {},
   "outputs": [],
   "source": [
    "#amplitude = 1\n",
    "width = 1\n",
    "peak_loc = 1\n",
    "x = np.linspace(-3,3,200)\n",
    "y =\n",
    "amplitude = 1.0/np.sqrt(2.0*np.pi*width**2)\n",
    "y =\n",
    "plt.plot(x,y)\n",
    "plt.xlim(-3,3)\n",
    "plt.ylim(-2,2)\n",
    "plt.show()"
   ]
  },
  {
   "cell_type": "markdown",
   "id": "dd75529c-1e58-4d2d-888e-e0772521837b",
   "metadata": {},
   "source": [
    "Let's show several normal distributions on the same plot."
   ]
  },
  {
   "cell_type": "code",
   "execution_count": null,
   "id": "0b82e81d-79d4-46ea-85ba-101ff30a6e27",
   "metadata": {},
   "outputs": [],
   "source": [
    "def normal(x,mean,sigma):\n",
    "    return np.exp(-(x-mean)**2/(2*sigma**2)) * 1.0/np.sqrt(2.0*np.pi*sigma**2)\n",
    "\n",
    "x = np.linspace(-10,10,1000)\n",
    "y1 = normal(x,0,1)\n",
    "y2 = normal(x,1,2)\n",
    "y3 = normal(x,2,3)\n",
    "plt.plot(x,y1)\n",
    "plt.plot(x,y2)\n",
    "plt.plot(x,y3)\n",
    "plt.show()"
   ]
  },
  {
   "cell_type": "markdown",
   "id": "b3ed08d7-07b6-49e0-9182-e024b7020795",
   "metadata": {},
   "source": [
    "Let's draw $n$ random numbers from a normal distribution, and compare the histogram to the actual, real, function."
   ]
  },
  {
   "cell_type": "code",
   "execution_count": null,
   "id": "5ececc24-6845-43ef-bbd5-94d702d25bbe",
   "metadata": {},
   "outputs": [],
   "source": [
    "\n",
    "#np.random.seed(42)\n",
    "\n",
    "#generate\n",
    "n = 50\n",
    "mean = 0.0\n",
    "sigma = 0.25\n",
    "samples = np.random.normal(mean,sigma,n)\n",
    "\n",
    "width = 0.05\n",
    "my_bins = np.arange(-1.5,1.5,width)\n",
    "x = np.linspace(-1.5,1.5,1000)\n",
    "distrib = normal(x,mean,sigma)\n",
    "\n",
    "plt.hist(samples,bins=my_bins,alpha=0.5,edgecolor='black',density=True)\n",
    "plt.plot(x,distrib)\n",
    "plt.xlabel('x')\n",
    "plt.ylabel('x density')\n",
    "\n",
    "\n",
    "plt.show()"
   ]
  },
  {
   "cell_type": "markdown",
   "id": "0d0e911f-a624-4b56-b770-395992153899",
   "metadata": {},
   "source": [
    "One interesting property of the normal distribution is that the standard deviation ***is*** $\\sigma$ (when enough samples are taken)."
   ]
  },
  {
   "cell_type": "code",
   "execution_count": null,
   "id": "8e73cc3f-0ffe-40f4-a584-aba3f5e67b48",
   "metadata": {},
   "outputs": [],
   "source": [
    "import numpy as np\n",
    "from tabulate import tabulate\n",
    "\n",
    "n = 8 #don't make it higher than 8 (100 million samples)\n",
    "mean = 0.0\n",
    "sigma = 0.25\n",
    "\n",
    "x = np.zeros(n)\n",
    "y = np.zeros_like(x) #for the standard deviation\n",
    "\n",
    "#for each iteration, draw 10^i random numbers from the normal distribution\n",
    "#compute the standard deviation, and compare to the theoretical value\n",
    "for i in range(n):\n",
    "    num_samples = 10 ** i\n",
    "    samples = np.random.normal(mean,sigma,num_samples)\n",
    "    x[i] = num_samples\n",
    "    y[i] = np.std(samples)\n",
    "\n",
    "# Create a table\n",
    "table_data = list(zip(x, y))\n",
    "\n",
    "# Print the table\n",
    "table_headers = [\"num_samples\", \"stdev\"]\n",
    "print(f\"sigma = {sigma}\")\n",
    "print(tabulate(table_data, headers=table_headers, tablefmt=\"fancy_grid\"))\n"
   ]
  },
  {
   "cell_type": "code",
   "execution_count": null,
   "id": "afc4b2a6-73d2-46ab-b03b-1acb80a45b49",
   "metadata": {},
   "outputs": [],
   "source": []
  }
 ],
 "metadata": {
  "kernelspec": {
   "display_name": "Python 3 (ipykernel)",
   "language": "python",
   "name": "python3"
  },
  "language_info": {
   "codemirror_mode": {
    "name": "ipython",
    "version": 3
   },
   "file_extension": ".py",
   "mimetype": "text/x-python",
   "name": "python",
   "nbconvert_exporter": "python",
   "pygments_lexer": "ipython3",
   "version": "3.12.9"
  }
 },
 "nbformat": 4,
 "nbformat_minor": 5
}
