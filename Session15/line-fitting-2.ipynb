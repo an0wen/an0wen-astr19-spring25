{
 "cells": [
  {
   "cell_type": "markdown",
   "id": "6ddda062-bb27-42dd-8c75-94c52906e827",
   "metadata": {},
   "source": [
    "# Understanding line fitting\n",
    "\n",
    "First we import numpy and matplotlib as usual."
   ]
  },
  {
   "cell_type": "code",
   "execution_count": null,
   "id": "b7d58113-586f-4f17-9a4b-bed6c7f000ff",
   "metadata": {},
   "outputs": [],
   "source": [
    "import numpy as np\n",
    "import matplotlib.pyplot as plt\n",
    "%matplotlib inline"
   ]
  },
  {
   "cell_type": "code",
   "execution_count": null,
   "id": "4d8df809-ad8f-4e83-bfa7-3bb3068ac95f",
   "metadata": {},
   "outputs": [],
   "source": [
    "plt.style.use(\"astr19_matplotlib_style.txt\")"
   ]
  },
  {
   "cell_type": "markdown",
   "id": "67293a1d-b8c4-4308-a615-d7551becfe9c",
   "metadata": {},
   "source": [
    "Now, let's generate some random data about a trend line."
   ]
  },
  {
   "cell_type": "code",
   "execution_count": null,
   "id": "47328698-14ce-4746-bcde-c8143981b857",
   "metadata": {},
   "outputs": [],
   "source": [
    "#set a random number seed\n",
    "np.random.seed(19)\n",
    "\n",
    "#set number of data points\n",
    "npoints = 50\n",
    "\n",
    "#set x\n",
    "x = np.linspace(0,10.,npoints)\n",
    "\n",
    "#set slope, intercept, and scatter rms\n",
    "m = 2.0\n",
    "b = 1.0\n",
    "sigma = 2.0\n",
    "\n",
    "#generate y points\n",
    "y = m*x + b + np.random.normal(scale=sigma,size=npoints)\n",
    "y_err = np.full(npoints,sigma)"
   ]
  },
  {
   "cell_type": "code",
   "execution_count": null,
   "id": "8259cf1b-fb49-426a-88ec-99e67ec270ef",
   "metadata": {},
   "outputs": [],
   "source": [
    "f = plt.figure(figsize=(7,7))\n",
    "plt.errorbar(x,y,yerr=y_err,fmt='o')\n",
    "plt.xlabel('x')\n",
    "plt.ylabel('y')\n",
    "plt.show()"
   ]
  },
  {
   "cell_type": "markdown",
   "id": "e7a4aa61-642d-4aef-a4f9-31ebb2d42739",
   "metadata": {},
   "source": [
    "#### Method #1, polyfit()"
   ]
  },
  {
   "cell_type": "code",
   "execution_count": null,
   "id": "62b9cb2a-154c-4dbc-a883-5bf0ef23aff3",
   "metadata": {},
   "outputs": [],
   "source": [
    "m_fit, b_fit = np.poly1d(np.polyfit(x,y,1,w=1./y_err)) #weight with uncertainties\n",
    "print(m_fit,b_fit)\n",
    "\n",
    "y_fit = m_fit * x + b_fit"
   ]
  },
  {
   "cell_type": "markdown",
   "id": "d25789d2-0b48-4eda-81eb-5f2c84d06447",
   "metadata": {},
   "source": [
    "#### Plot result"
   ]
  },
  {
   "cell_type": "code",
   "execution_count": null,
   "id": "59eee6f7-21b5-4bfa-8ea6-510359a71444",
   "metadata": {},
   "outputs": [],
   "source": [
    "f = plt.figure(figsize=(7,7))\n",
    "plt.errorbar(x,y,yerr=y_err,fmt='o',label='data')\n",
    "plt.plot(x,y_fit,label='fit')\n",
    "plt.xlabel('x')\n",
    "plt.ylabel('y')\n",
    "plt.legend(loc=2,frameon=False)\n",
    "plt.show()"
   ]
  },
  {
   "cell_type": "markdown",
   "id": "cd7696f3-0297-45da-919b-e63ecdb89a9c",
   "metadata": {},
   "source": [
    "#### Is this really the best fit??"
   ]
  },
  {
   "cell_type": "code",
   "execution_count": null,
   "id": "eca9f99f-1b63-437e-9e3c-5143cc52f19f",
   "metadata": {},
   "outputs": [],
   "source": [
    "x_mean = np.mean(x)\n",
    "y_mean = np.mean(y)\n",
    "\n",
    "sum_numerator = np.sum( (x-x_mean) * (y-y_mean) )\n",
    "sum_denominator = np.sum( (x-x_mean)**2 )\n",
    "\n",
    "m_calc = sum_numerator / sum_denominator\n",
    "b_calc = y_mean - m_calc*x_mean\n",
    "\n",
    "y_calc = m_calc*x + b_calc\n",
    "\n",
    "print(m_calc,b_calc)"
   ]
  },
  {
   "cell_type": "code",
   "execution_count": null,
   "id": "1733fb81-fc71-42e7-a169-cfe95a4cc05b",
   "metadata": {},
   "outputs": [],
   "source": [
    "f = plt.figure(figsize=(7,7))\n",
    "plt.errorbar(x,y,yerr=y_err,fmt='o',label='data')\n",
    "plt.plot(x,y_fit,label='fit')\n",
    "plt.plot(x,y_calc,'o',label='calc')\n",
    "plt.xlabel('x')\n",
    "plt.ylabel('y')\n",
    "plt.legend(loc=2,frameon=False)\n",
    "plt.show()"
   ]
  },
  {
   "cell_type": "markdown",
   "id": "2af14870-f82d-4720-8def-835a01a04c02",
   "metadata": {},
   "source": [
    "#### Why is the last digit different?"
   ]
  },
  {
   "cell_type": "code",
   "execution_count": null,
   "id": "d50d0f73-9958-479b-9b32-2829f71ffa01",
   "metadata": {},
   "outputs": [],
   "source": [
    "print(1/3)\n",
    "print(1/3+1/3+1/3)\n",
    "print(1/3+1/3+1/3 + 1/3+1/3+1/3)\n",
    "print((1/3+1/3+1/3) + (1/3+1/3+1/3))"
   ]
  },
  {
   "cell_type": "code",
   "execution_count": null,
   "id": "cf0ee1d9-75f5-4a14-8a2d-c86ffa689515",
   "metadata": {},
   "outputs": [],
   "source": []
  },
  {
   "cell_type": "code",
   "execution_count": null,
   "id": "a1ae6423-70c8-4b85-b3d0-7fcc0250225c",
   "metadata": {},
   "outputs": [],
   "source": []
  },
  {
   "cell_type": "code",
   "execution_count": null,
   "id": "6c3fc4c0-9d71-4b25-9f6a-de3de97b5766",
   "metadata": {},
   "outputs": [],
   "source": []
  }
 ],
 "metadata": {
  "kernelspec": {
   "display_name": "Python 3 (ipykernel)",
   "language": "python",
   "name": "python3"
  },
  "language_info": {
   "codemirror_mode": {
    "name": "ipython",
    "version": 3
   },
   "file_extension": ".py",
   "mimetype": "text/x-python",
   "name": "python",
   "nbconvert_exporter": "python",
   "pygments_lexer": "ipython3",
   "version": "3.12.9"
  }
 },
 "nbformat": 4,
 "nbformat_minor": 5
}
