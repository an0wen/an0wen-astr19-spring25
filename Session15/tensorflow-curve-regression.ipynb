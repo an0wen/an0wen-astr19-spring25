{
 "cells": [
  {
   "cell_type": "markdown",
   "id": "d0daa22c-fa69-4743-9585-11b21d8a7a88",
   "metadata": {},
   "source": [
    "# Curve regression with TensorFlow 2\n",
    "\n",
    "This ntoebook provides a simple example of performing a regression problem with TensorFlow 2. The notebook could be adapted by changing the fitting functions to address a wide variety of regression tasks."
   ]
  },
  {
   "cell_type": "markdown",
   "id": "49793a96-c86d-41dc-92fd-940e1de8b3bc",
   "metadata": {},
   "source": [
    "#### First, import numpy, matplotlib, and tensorflow\n",
    "\n",
    "Also, check the version of TF."
   ]
  },
  {
   "cell_type": "code",
   "execution_count": null,
   "id": "47d00acf-1607-4cd2-8609-d4e2265196b7",
   "metadata": {},
   "outputs": [],
   "source": [
    "import numpy as np\n",
    "import matplotlib\n",
    "import matplotlib.pyplot as plt\n",
    "import tensorflow as tf\n",
    "print(tf.__version__)"
   ]
  },
  {
   "cell_type": "code",
   "execution_count": null,
   "id": "42551153-33e9-4631-a89f-cdb543af94a7",
   "metadata": {},
   "outputs": [],
   "source": [
    "%matplotlib inline\n",
    "plt.style.use(\"astr19_matplotlib_style.txt\")"
   ]
  },
  {
   "cell_type": "markdown",
   "id": "37fe023a-a9c1-4132-b704-6e63f434797c",
   "metadata": {},
   "source": [
    "#### Second, create a function that will generate some data to fit"
   ]
  },
  {
   "cell_type": "code",
   "execution_count": null,
   "id": "d7913f51-c68e-42f6-9849-90f962f79bce",
   "metadata": {},
   "outputs": [],
   "source": [
    "#reference function to create data, and make the fit\n",
    "#first argument is the variable x\n",
    "#other arguments are amplitude, frequency, and phase\n",
    "def sinusoid(x,A,f,p):\n",
    "    return A*np.sin(2.0*np.pi*f*x+p)"
   ]
  },
  {
   "cell_type": "code",
   "execution_count": null,
   "id": "8d684005-afb3-4a65-b899-97f64f77032f",
   "metadata": {},
   "outputs": [],
   "source": [
    "#function that will generate some data\n",
    "def generate_data(xmin=0.0,xmax=10.0,A=1.0,f=0.5,p=1.0,s=0.25,n=100):\n",
    "    #xmin is the minimum range of the data\n",
    "    #xmax is the maximum range of the data\n",
    "    #A is the Amplitude\n",
    "    #f is the frequency\n",
    "    #p is the phase\n",
    "    #s is the gaussian stdev\n",
    "    #n is the number of samples\n",
    "\n",
    "    #create n points randomly (uniformly) distributed between xmin and xmax\n",
    "    x = np.random.uniform(low=xmin,high=xmax,size=n)\n",
    "    x = np.asarray(x,dtype=np.float32) #convert to a float\n",
    "    \n",
    "    #y have a value centered on the real curve, but with gaussian error\n",
    "    y = sinusoid(x,A,f,p) + s*np.random.randn(n)\n",
    "    y = np.asarray(y,dtype=np.float32)\n",
    "\n",
    "    y_err = np.full(n,s,dtype=np.float32)\n",
    "\n",
    "    #return x, y, and y_err values\n",
    "    return x,y,y_err"
   ]
  },
  {
   "cell_type": "markdown",
   "id": "3904c769-1640-4fd9-824d-00b8a3f83c68",
   "metadata": {},
   "source": [
    "#### Generate the data"
   ]
  },
  {
   "cell_type": "code",
   "execution_count": null,
   "id": "ae581019-2c5f-4bb2-8f17-4da12adca502",
   "metadata": {},
   "outputs": [],
   "source": [
    "x, y, y_err = generate_data(s=0.1)"
   ]
  },
  {
   "cell_type": "markdown",
   "id": "f333fae5-327e-4112-9e7b-0890b58ba006",
   "metadata": {},
   "source": [
    "#### Plot the data"
   ]
  },
  {
   "cell_type": "code",
   "execution_count": null,
   "id": "76b5c70d-defc-40f3-a6a5-19ced7f9859b",
   "metadata": {},
   "outputs": [],
   "source": [
    "f,ax = plt.subplots(1,1,figsize=(7,7))\n",
    "ax.errorbar(x,y,y_err,fmt='o',label='Data')\n",
    "ax.set_xlim([-0.1,10.1])\n",
    "ax.set_ylim([-2.,2.])\n",
    "ax.text(0.3,1.75,'Sigma = 1',color='0',fontsize=12)\n",
    "ax.set_xlabel('x',fontsize=20)\n",
    "ax.set_ylabel('y',fontsize=20)\n",
    "plt.legend(frameon=True,fontsize=20,handletextpad=0)\n",
    "plt.show()"
   ]
  },
  {
   "cell_type": "markdown",
   "id": "1d9ac563-7c53-4aef-9a96-9e67dbd6b343",
   "metadata": {},
   "source": [
    "#### Let's prepare our fitted model\n",
    "\n",
    "First, we declare our fitted variables as global tf.Variables"
   ]
  },
  {
   "cell_type": "code",
   "execution_count": null,
   "id": "be2e3859-8503-4a66-b927-78b87d5f9437",
   "metadata": {},
   "outputs": [],
   "source": [
    "#Amplitude\n",
    "A_init = 3.0\n",
    "A_fit = tf.Variable(A_init, name='amplitude')\n",
    "\n",
    "#frequency\n",
    "f_init = 0.5\n",
    "f_fit = tf.Variable(f_init, name='frequency')\n",
    "\n",
    "#phase\n",
    "p_init = 2.0\n",
    "p_fit = tf.Variable(p_init,name='phase')"
   ]
  },
  {
   "cell_type": "markdown",
   "id": "542e946d-aa73-4b5a-8ab2-0f9dc7bcf68a",
   "metadata": {},
   "source": [
    "#### Now, let's define the model for tensorflow to fit\n",
    "\n",
    "The function needs to be decorated with the @tf.function decorator."
   ]
  },
  {
   "cell_type": "code",
   "execution_count": null,
   "id": "03e0aa10-01b5-431d-a204-bb5f2dd9cc37",
   "metadata": {},
   "outputs": [],
   "source": [
    "#define sinusoidal model\n",
    "@tf.function\n",
    "def sinusoidal_model(x):\n",
    "    pi = tf.math.acos(-1.0)\n",
    "    return A_fit*tf.math.sin(2.0*pi*f_fit*x + p_fit)"
   ]
  },
  {
   "cell_type": "markdown",
   "id": "13560c01-7572-4362-8164-60eea18af2ce",
   "metadata": {},
   "source": [
    "#### We need to define the loss function, using tensorflow\n",
    "\n",
    "We will use mean-squared error"
   ]
  },
  {
   "cell_type": "code",
   "execution_count": null,
   "id": "be175235-5bc7-48fa-9d11-46b7e2c9d66f",
   "metadata": {},
   "outputs": [],
   "source": [
    "#define loss function\n",
    "@tf.function\n",
    "def mse(y_true, y_pred):\n",
    "    #mse between true and predicted values\n",
    "    return tf.losses.mse(y_true,y_pred)"
   ]
  },
  {
   "cell_type": "markdown",
   "id": "781412f5-e1d5-4119-aaae-ad0ff35a804f",
   "metadata": {},
   "source": [
    "#### We also need to define the optimizer that tells us how to do gradient descent\n",
    "\n",
    "We'll use the pre-defined Adam optimizer from Keras."
   ]
  },
  {
   "cell_type": "code",
   "execution_count": null,
   "id": "92c315c8-bd86-4301-8272-6d32abdc57bd",
   "metadata": {},
   "outputs": [],
   "source": [
    "#Adam Optimizer\n",
    "optimizer = tf.keras.optimizers.Adam(learning_rate=0.001)"
   ]
  },
  {
   "cell_type": "markdown",
   "id": "815ed50a-0b20-44e4-a88a-f2dedca5cae1",
   "metadata": {},
   "source": [
    "#### Now we train the model iteratively"
   ]
  },
  {
   "cell_type": "code",
   "execution_count": null,
   "id": "80d03cb5-59c2-47fd-9f0a-1d4209bca32b",
   "metadata": {},
   "outputs": [],
   "source": [
    "#start training\n",
    "epochs = 5000 #number of epochs to run\n",
    "display_step = 1000 #print info every this number of steps\n",
    "\n",
    "A_array = np.zeros(epochs)\n",
    "f_array = np.zeros(epochs)\n",
    "p_array = np.zeros(epochs)\n",
    "l_array = np.zeros(epochs)\n",
    "\n",
    "for epoch in range(epochs):\n",
    "\n",
    "    #monitor training / display steps\n",
    "    if((epoch%display_step)==0):\n",
    "        pred = sinusoidal_model(x)\n",
    "        loss = mse(pred,y)\n",
    "\n",
    "        #to print this info, we need to convert to numpy arrays\n",
    "        print(f\"Epoch {epoch} : Loss {loss.numpy()}, A: {A_fit.numpy()} f: {f_fit.numpy()} p:{p_fit.numpy()}\")\n",
    "\n",
    "    A_array[epoch] = A_fit.numpy()\n",
    "    f_array[epoch] = f_fit.numpy()\n",
    "    p_array[epoch] = p_fit.numpy()\n",
    "    l_array[epoch] = loss.numpy()\n",
    "    #In TF2, gradients are handled using\n",
    "    #the GradientTape class.\n",
    "    #begin GradientTape and optimize\n",
    "    with tf.GradientTape() as g:\n",
    "        pred = sinusoidal_model(x)\n",
    "        loss = mse(y,pred)\n",
    "\n",
    "    #compute dm, db, the gradients\n",
    "    #with respect to (A,f,p)_fit\n",
    "    gradients = g.gradient(loss, [A_fit,f_fit,p_fit])\n",
    "\n",
    "    #update (A,f,p)_fit with the gradients x learning\n",
    "    optimizer.apply_gradients(zip(gradients,[A_fit,f_fit,p_fit]))\n",
    "\n",
    "#print the last answer\n",
    "print(f\"Epoch {epoch} : Loss {loss.numpy()}, A: {A_fit.numpy()} f: {f_fit.numpy()} p:{p_fit.numpy()}\")\n",
    "print(\"Done!\")"
   ]
  },
  {
   "cell_type": "markdown",
   "id": "1bd8d79a-7355-4e27-9752-c2497936ff75",
   "metadata": {},
   "source": [
    "#### Let's plot the data and the model"
   ]
  },
  {
   "cell_type": "code",
   "execution_count": null,
   "id": "f8f844d1-20c0-4614-9064-10c1cece81cb",
   "metadata": {},
   "outputs": [],
   "source": [
    "x_model = np.linspace(0,10,1000)\n",
    "y_model = sinusoid(x_model,A_fit,f_fit,p_fit)"
   ]
  },
  {
   "cell_type": "code",
   "execution_count": null,
   "id": "c4ca1b7e-1204-4ec9-87bd-40781b464750",
   "metadata": {},
   "outputs": [],
   "source": [
    "f,ax = plt.subplots(1,1,figsize=(7,7))\n",
    "ax.errorbar(x,y,y_err,fmt='o',zorder=5,label='Data')\n",
    "ax.plot(x_model,y_model,color='magenta',zorder=6,label='Best-fit Model')\n",
    "ax.set_xlim([-0.1,10.1])\n",
    "ax.set_ylim([-2.,2.])\n",
    "ax.text(0.3,1.75,'Sigma = 1',color='0',fontsize=12)\n",
    "ax.set_xlabel('x',fontsize=20)\n",
    "ax.set_ylabel('y',fontsize=20)\n",
    "plt.legend(frameon=True,fontsize=10,handletextpad=1)\n",
    "plt.show()"
   ]
  },
  {
   "cell_type": "code",
   "execution_count": null,
   "id": "eb8cf141-c5ec-4715-be5b-74567f046bae",
   "metadata": {},
   "outputs": [],
   "source": [
    "plt.plot(A_array,label='A')\n",
    "plt.plot(f_array,label='f')\n",
    "plt.plot(p_array,label='p')\n",
    "plt.plot(l_array,label='loss')\n",
    "plt.legend()\n",
    "plt.show()"
   ]
  },
  {
   "cell_type": "code",
   "execution_count": null,
   "id": "1e438260-7aba-4028-8b12-e3917603b524",
   "metadata": {},
   "outputs": [],
   "source": [
    "from ipywidgets import interactive\n",
    "\n",
    "def sin_epoch(x, epoch):\n",
    "    a = A_array[epoch]\n",
    "    f = f_array[epoch]\n",
    "    p = p_array[epoch]\n",
    "    return a*np.sin(2.0*np.pi *f * x + p)\n",
    "\n",
    "# Create interactive plot\n",
    "def interactive_plot(epoch):\n",
    "    plt.figure(figsize=(8, 6))\n",
    "    plt.errorbar(x,y,y_err,fmt='o',zorder=5,label='Data')\n",
    "    plt.plot(x_model, sin_epoch(x_model, epoch), color='magenta',zorder=6,label='Best-fit Model')\n",
    "    plt.xlabel('x')\n",
    "    plt.ylabel('y')\n",
    "    plt.xlim([-0.1,10.1])\n",
    "    plt.ylim([-2.,2.])\n",
    "    plt.legend()\n",
    "    plt.grid(True)\n",
    "    plt.show()\n",
    "\n",
    "# Create slider\n",
    "p_slider = interactive(interactive_plot, epoch=(0, 4999, 1),continuous_update=False)\n",
    "\n",
    "# Set default value of slider to 0\n",
    "p_slider.children[0].value = 0\n",
    "\n",
    "output = p_slider.children[-1]\n",
    "output.layout.height = '450px'\n",
    "\n",
    "# Display the slider\n",
    "display(p_slider)"
   ]
  },
  {
   "cell_type": "code",
   "execution_count": null,
   "id": "48aa57d7-74a5-47f6-b762-3e621e609f25",
   "metadata": {},
   "outputs": [],
   "source": []
  },
  {
   "cell_type": "code",
   "execution_count": null,
   "id": "d0e2bb9f-ade8-49d1-bbe9-133dc1636124",
   "metadata": {},
   "outputs": [],
   "source": []
  }
 ],
 "metadata": {
  "kernelspec": {
   "display_name": "Python (tensorflow)",
   "language": "python",
   "name": "astr19tensorflow"
  },
  "language_info": {
   "codemirror_mode": {
    "name": "ipython",
    "version": 3
   },
   "file_extension": ".py",
   "mimetype": "text/x-python",
   "name": "python",
   "nbconvert_exporter": "python",
   "pygments_lexer": "ipython3",
   "version": "3.12.4"
  }
 },
 "nbformat": 4,
 "nbformat_minor": 5
}
